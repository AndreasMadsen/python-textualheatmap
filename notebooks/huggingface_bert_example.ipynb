{
  "nbformat": 4,
  "nbformat_minor": 0,
  "metadata": {
    "colab": {
      "name": "TextualHeatmap.ipynb",
      "provenance": [],
      "collapsed_sections": [],
      "toc_visible": true,
      "machine_shape": "hm"
    },
    "kernelspec": {
      "name": "python3",
      "display_name": "Python 3"
    },
    "accelerator": "GPU"
  },
  "cells": [
    {
      "cell_type": "markdown",
      "metadata": {
        "id": "X8GJbpoUmYdT",
        "colab_type": "text"
      },
      "source": [
        "# Saliency Maps with HuggingFace and TextualHeatmap\n",
        "\n",
        "This notebook implements the saliency map as described in [Andreas Madsen's distill paper](https://distill.pub/2019/memorization-in-rnns/). However, it apply the method on BERT models rather than RNN models.\n",
        "\n",
        "The visualization therefore describes which words/sub-words were important for infering a masked word/sub-word.\n",
        "\n",
        "* TextualHeatmap: https://github.com/AndreasMadsen/python-textualheatmap\n",
        "* HuggingFace Transformers: https://github.com/huggingface/transformers"
      ]
    },
    {
      "cell_type": "markdown",
      "metadata": {
        "id": "JpST5Dc0nNNt",
        "colab_type": "text"
      },
      "source": [
        "First install TensorFlow, TextualHeatmap, and Transformers. In this notebook the TensorFlow implementations in `transfomers` are used, however this could also be applyed to the PyTorch implementation."
      ]
    },
    {
      "cell_type": "code",
      "metadata": {
        "id": "czJeDvhyAUCm",
        "colab_type": "code",
        "colab": {}
      },
      "source": [
        "%tensorflow_version 2.x\n",
        "!pip install textualheatmap transformers"
      ],
      "execution_count": 0,
      "outputs": []
    },
    {
      "cell_type": "markdown",
      "metadata": {
        "id": "5tur-G6LngqL",
        "colab_type": "text"
      },
      "source": [
        "As described in [Andreas Madsen's distill paper](https://distill.pub/2019/memorization-in-rnns/), the saliency map is computed by measuring the gradient magnitude of the output w.r.t. the input.\n",
        "\n",
        "$$\n",
        "\\mathrm{connectivity}(t, \\tilde{t}) = \\left|\\left| \\frac{\\partial y^{\\tilde{t}}_{k}}{\\partial x^t} \\right|\\right|_2\n",
        "$$\n",
        "\n",
        "Implementation wise this can be done quite easily with `tf.GradientTape`. However, because the gradient can not be take w.r.t. to an `int32` type, which is how the `token_ids` are encoded, an one-hot-encoding should be used instead. HuggingFace Transformers supports this via `inputs_embeds` which is the actual input-word-embedding, thus by computing $\\mathbf{x} \\mathbf{W}$ in the `tf.GradientTape` scope the gradient w.r.t. $\\mathbf{x}$ can be computed."
      ]
    },
    {
      "cell_type": "code",
      "metadata": {
        "id": "IMyHY55SC24O",
        "colab_type": "code",
        "colab": {}
      },
      "source": [
        "import numpy as np\n",
        "import tensorflow as tf\n",
        "\n",
        "def compute_textual_saliency(model, embedding_matrix, tokenizer, text):\n",
        "    token_ids = tokenizer.encode(text, add_special_tokens=True)\n",
        "    vocab_size = embedding_matrix.get_shape()[0]\n",
        "\n",
        "    heatmap_data = []\n",
        "\n",
        "    for masked_token_index in range(len(token_ids)):\n",
        "        # print(f'processing token {masked_token_index + 1} / {len(token_ids)}')\n",
        "\n",
        "        if masked_token_index == 0:\n",
        "            heatmap_data.append({\n",
        "                'token': '[CLR]',\n",
        "                'meta': ['', '', ''],\n",
        "                'heat': [1] + [0] * (len(token_ids) - 1)\n",
        "            })\n",
        "        elif masked_token_index == len(token_ids) - 1:\n",
        "            heatmap_data.append({\n",
        "                'token': ' ',\n",
        "                'format': True\n",
        "            })\n",
        "            heatmap_data.append({\n",
        "                'token': '[SEP]',\n",
        "                'meta': ['', '', ''],\n",
        "                'heat': [0] * (len(token_ids) - 1) + [1]\n",
        "            })\n",
        "        else:\n",
        "            # Get the actual token\n",
        "            target_token = tokenizer.convert_ids_to_tokens(\n",
        "                token_ids[masked_token_index])\n",
        "\n",
        "            if target_token[0:2] == '##':\n",
        "                target_token = target_token[2:]\n",
        "            else:\n",
        "                heatmap_data.append({\n",
        "                    'token': ' ',\n",
        "                    'format': True\n",
        "                })\n",
        "\n",
        "            # integers are not differentable, so use a one-hot encoding\n",
        "            # of the intput\n",
        "            token_ids_tensor = tf.constant([\n",
        "                token_ids[0:masked_token_index] +\n",
        "                [tokenizer.mask_token_id] +\n",
        "                token_ids[masked_token_index + 1:]\n",
        "            ], dtype='int32')\n",
        "            token_ids_tensor_one_hot = tf.one_hot(token_ids_tensor, vocab_size)\n",
        "\n",
        "            # To select, the correct output witch is what the importance\n",
        "            # measure targets, create a masking tensor. tf.gather_nd could also\n",
        "            # be used, but this is easier.\n",
        "            output_mask = np.zeros((1, len(token_ids), vocab_size))\n",
        "            output_mask[0, masked_token_index, token_ids[masked_token_index]] = 1\n",
        "            output_mask_tensor = tf.constant(output_mask, dtype='float32')\n",
        "\n",
        "            # Compute gradient of the logits of the correct target, w.r.t. the\n",
        "            # input\n",
        "            with tf.GradientTape(watch_accessed_variables=False) as tape:\n",
        "                tape.watch(token_ids_tensor_one_hot)\n",
        "                inputs_embeds = tf.matmul(token_ids_tensor_one_hot,embedding_matrix)\n",
        "                predict, = model({\"inputs_embeds\": inputs_embeds})\n",
        "                predict_mask_correct_token = tf.reduce_sum(predict * output_mask_tensor)\n",
        "\n",
        "            # Get the top-3 predictions\n",
        "            (_, top_3_indices) = tf.math.top_k(predict[0, masked_token_index, :], 3)\n",
        "            top_3_predicted_tokens = tokenizer.convert_ids_to_tokens(top_3_indices)\n",
        "\n",
        "            # compute the connectivity\n",
        "            connectivity_non_normalized = tf.norm(\n",
        "                tape.gradient(predict_mask_correct_token, token_ids_tensor_one_hot),\n",
        "                axis=2)\n",
        "            connectivity_tensor = (\n",
        "                connectivity_non_normalized /\n",
        "                tf.reduce_max(connectivity_non_normalized)\n",
        "            )\n",
        "            connectivity = connectivity_tensor[0].numpy().tolist()\n",
        "\n",
        "            heatmap_data.append({\n",
        "                'token': target_token,\n",
        "                'meta': top_3_predicted_tokens,\n",
        "                'heat': connectivity\n",
        "            })\n",
        "\n",
        "    return heatmap_data"
      ],
      "execution_count": 0,
      "outputs": []
    },
    {
      "cell_type": "markdown",
      "metadata": {
        "id": "1CF-V7r0o-g7",
        "colab_type": "text"
      },
      "source": [
        "With this implementation, it is now possible to compare different BERT-like models. In theory any model can be compared, as long as the tokenization is the same. In this case the BERT and DistillBERT models are very similar, which is what we would expect and want."
      ]
    },
    {
      "cell_type": "code",
      "metadata": {
        "id": "KzS9z-lVeBTl",
        "colab_type": "code",
        "outputId": "74ec05a4-cec7-407a-8729-8fcaaa2c1d7c",
        "colab": {
          "base_uri": "https://localhost:8080/",
          "height": 291
        }
      },
      "source": [
        "text = (\"context the formal study of grammar is an important part of education\"\n",
        "        \" from a young age through advanced learning though the rules taught\"\n",
        "        \" in schools are not a grammar in the sense most linguists use\")\n",
        "\n",
        "from transformers import TFDistilBertForMaskedLM, DistilBertTokenizer\n",
        "dbert_model = TFDistilBertForMaskedLM.from_pretrained('distilbert-base-uncased')\n",
        "dbert_tokenizer = DistilBertTokenizer.from_pretrained('distilbert-base-uncased')\n",
        "dbert_embmat = dbert_model.distilbert.embeddings.word_embeddings\n",
        "\n",
        "from transformers import TFBertForMaskedLM, BertTokenizer\n",
        "bert_model = TFBertForMaskedLM.from_pretrained('bert-base-uncased')\n",
        "bert_tokenizer = BertTokenizer.from_pretrained('bert-base-uncased')\n",
        "bert_embmat = bert_model.bert.embeddings.word_embeddings\n",
        "\n",
        "from textualheatmap import TextualHeatmap\n",
        "heatmap = TextualHeatmap(facet_titles = ['BERT', 'Distil BERT'], show_meta=True)\n",
        "heatmap.set_data([\n",
        "    compute_textual_saliency(bert_model, bert_embmat, bert_tokenizer, text),\n",
        "    compute_textual_saliency(dbert_model, dbert_embmat, dbert_tokenizer, text)\n",
        "])"
      ],
      "execution_count": 0,
      "outputs": [
        {
          "output_type": "display_data",
          "data": {
            "text/html": [
              "<style>.textual-heatmap .facet {\n",
              "  display: grid;\n",
              "  grid-template-columns: 1fr 60px;\n",
              "  grid-template-rows: 40px auto;\n",
              "  grid-template-areas:\n",
              "    \"meta-content .\"\n",
              "    \"token-content facet-title\";\n",
              "  margin-bottom: 0.5em;\n",
              "}\n",
              "\n",
              ".textual-heatmap .facet.hide-meta-content {\n",
              "  grid-template-rows: auto;\n",
              "  grid-template-areas:\n",
              "    \"token-content facet-title\";\n",
              "}\n",
              "\n",
              ".textual-heatmap .facet .token-content {\n",
              "  grid-area: token-content;\n",
              "\n",
              "  font-family: monospace;\n",
              "  padding: 0.5em;\n",
              "  box-sizing: border-box;\n",
              "  background: #365d8d;\n",
              "  color: white;\n",
              "  line-height: 1.4em;\n",
              "  border-radius: 0 0 0 5px;\n",
              "}\n",
              "\n",
              ".textual-heatmap .facet.hide-meta-content .token-content {\n",
              "    border-radius: 5px 0 0 5px;\n",
              "}\n",
              "\n",
              ".textual-heatmap .facet .token-content span {\n",
              "  border-bottom: 0.2em solid transparent;\n",
              "  white-space: pre-wrap;\n",
              "}\n",
              "\n",
              ".textual-heatmap .facet .token-content span.selected {\n",
              "  border-bottom-color: white;\n",
              "}\n",
              "\n",
              ".textual-heatmap .facet .meta-content {\n",
              "  grid-area: meta-content;\n",
              "  display: grid;\n",
              "  grid-template-columns: repeat(auto-fit, minmax(0px, 1fr));\n",
              "  grid-column-gap: 2px;\n",
              "  align-items: center;\n",
              "}\n",
              "\n",
              ".textual-heatmap .facet.hide-meta-content .meta-content {\n",
              "    display: none;\n",
              "}\n",
              "\n",
              ".textual-heatmap .facet .meta-content .meta-content-item {\n",
              "  display: flex;\n",
              "  justify-content: center;\n",
              "  align-items: center;\n",
              "  padding: 0 5px;\n",
              "  height: 39px;\n",
              "  background: #F3F3F3;\n",
              "  border: 1px solid #E0E0E0;\n",
              "  color: black;\n",
              "  border-bottom: none;\n",
              "  text-overflow: ellipsis;\n",
              "  overflow: hidden;\n",
              "}\n",
              "\n",
              ".textual-heatmap .facet .meta-content .meta-content-item:first-of-type {\n",
              "    border-radius: 5px 0 0 0;\n",
              "}\n",
              "\n",
              ".textual-heatmap .facet .meta-content .meta-content-item:last-of-type {\n",
              "    border-radius: 0 5px 0 0;\n",
              "}\n",
              "\n",
              ".textual-heatmap .facet .meta-content .meta-content-item:first-of-type:last-of-type {\n",
              "    border-radius: 5px 5px 0 0;\n",
              "}\n",
              "\n",
              ".textual-heatmap .facet .facet-title {\n",
              "  grid-area: facet-title;\n",
              "\n",
              "  display: flex;\n",
              "  max-width: 60px;\n",
              "  background: #EEEEEE;\n",
              "  justify-content: center;\n",
              "  color: #555555;\n",
              "  border-radius: 0 5px 5px 0;\n",
              "  border: 1px solid #E0E0E0;\n",
              "  border-left: none;\n",
              "}\n",
              "\n",
              ".textual-heatmap .facet .facet-title span {\n",
              "  align-self: center;\n",
              "  display: inline-block;\n",
              "  transform-origin: center center;\n",
              "  line-height: 1em;\n",
              "  text-align: center;\n",
              "}\n",
              "\n",
              ".textual-heatmap .facet.rotate-facet-title .facet-title span {\n",
              "  transform: translate(0, 0) rotate(90deg);\n",
              "}</style><script>;(function () {\n",
              "    'use strict';\n",
              "\n",
              "    function viridisSubset(ratio) {\n",
              "        const colormap = [\n",
              "            '#365d8d', '#355e8d', '#355f8d', '#34608d', '#34618d',\n",
              "            '#33628d', '#33638d', '#32648e', '#32658e', '#31668e',\n",
              "            '#31678e', '#31688e', '#30698e', '#306a8e', '#2f6b8e',\n",
              "            '#2f6c8e', '#2e6d8e', '#2e6e8e', '#2e6f8e', '#2d708e',\n",
              "            '#2d718e', '#2c718e', '#2c728e', '#2c738e', '#2b748e',\n",
              "            '#2b758e', '#2a768e', '#2a778e', '#2a788e', '#29798e',\n",
              "            '#297a8e', '#297b8e', '#287c8e', '#287d8e', '#277e8e',\n",
              "            '#277f8e', '#27808e', '#26818e', '#26828e', '#26828e',\n",
              "            '#25838e', '#25848e', '#25858e', '#24868e', '#24878e',\n",
              "            '#23888e', '#23898e', '#238a8d', '#228b8d', '#228c8d',\n",
              "            '#228d8d', '#218e8d', '#218f8d', '#21908d', '#21918c',\n",
              "            '#20928c', '#20928c', '#20938c', '#1f948c', '#1f958b',\n",
              "            '#1f968b', '#1f978b', '#1f988b', '#1f998a', '#1f9a8a',\n",
              "            '#1e9b8a', '#1e9c89', '#1e9d89', '#1f9e89', '#1f9f88',\n",
              "            '#1fa088', '#1fa188', '#1fa187', '#1fa287', '#20a386',\n",
              "            '#20a486', '#21a585', '#21a685', '#22a785', '#22a884',\n",
              "            '#23a983', '#24aa83', '#25ab82', '#25ac82', '#26ad81',\n",
              "            '#27ad81', '#28ae80', '#29af7f', '#2ab07f', '#2cb17e',\n",
              "            '#2db27d', '#2eb37c', '#2fb47c', '#31b57b', '#32b67a',\n",
              "            '#34b679', '#35b779'\n",
              "        ];\n",
              "        const n = colormap.length - 1;\n",
              "        return colormap[Math.max(0, Math.min(n, Math.floor(ratio * n)))];\n",
              "    }\n",
              "\n",
              "    class TextualHeatmap {\n",
              "        constructor(settings) {\n",
              "            this.container = document.getElementById(settings.id);\n",
              "            this.container.style.width = settings.width + 'px';\n",
              "            this.facets = settings.facetTitles\n",
              "                .map((facetName) => new TextualHeatmapFacet(settings, this.container, facetName));\n",
              "\n",
              "            for (let i = 0; i < this.facets.length; i++) {\n",
              "                this.facets[i].onmouseover = this.highlight.bind(this);\n",
              "            }\n",
              "        }\n",
              "\n",
              "        setData(data) {\n",
              "            for (let i = 0; i < this.facets.length; i++) {\n",
              "                this.facets[i].setData(data[i]);\n",
              "            }\n",
              "        }\n",
              "\n",
              "        highlight(index) {\n",
              "            for (let i = 0; i < this.facets.length; i++) {\n",
              "                this.facets[i].highlight(index);\n",
              "            }\n",
              "        }\n",
              "    }\n",
              "\n",
              "    class TextualHeatmapFacet {\n",
              "        constructor(settings, root, facetName) {\n",
              "            this.settings = settings;\n",
              "            this.highlightIndex = null;\n",
              "            this.nonFormatData = [];\n",
              "            this.heatIndexToNodeElement = [];\n",
              "            this.root = root;\n",
              "            this.onmouseover = null;\n",
              "\n",
              "            this.facet = document.createElement('div');\n",
              "            this.facet.classList.add('facet');\n",
              "            this.facet.classList.toggle('hide-meta-content', !settings.showMeta);\n",
              "            this.facet.classList.toggle('rotate-facet-title', settings.rotateFacetTitles);\n",
              "            this.root.appendChild(this.facet);\n",
              "\n",
              "            this.meta = document.createElement('div');\n",
              "            this.meta.classList.add('meta-content');\n",
              "            this.facet.appendChild(this.meta);\n",
              "\n",
              "            const item = document.createElement('div');\n",
              "            item.classList.add('meta-content-item');\n",
              "            this.meta.appendChild(item);\n",
              "\n",
              "            this.content = document.createElement('div');\n",
              "            this.content.classList.add('token-content');\n",
              "            this.facet.appendChild(this.content);\n",
              "\n",
              "            this.title = document.createElement('div');\n",
              "            this.title.classList.add('facet-title');\n",
              "            const titleSpan = document.createElement('span');\n",
              "            titleSpan.appendChild(document.createTextNode(facetName));\n",
              "            this.title.appendChild(titleSpan);\n",
              "            this.facet.appendChild(this.title);\n",
              "        }\n",
              "\n",
              "        setData(data) {\n",
              "            this.nonFormatData = [];\n",
              "            this.heatIndexToNodeElement = []\n",
              "\n",
              "            while (this.content.childNodes.length > 0) {\n",
              "                this.content.removeChild(this.content.firstChild);\n",
              "            }\n",
              "\n",
              "            for (let i = 0; i < data.length; i++) {\n",
              "                const tokenNode = document.createElement('span');\n",
              "                const heatIndex = this.heatIndexToNodeElement.length;\n",
              "                tokenNode.appendChild(document.createTextNode(data[i].token));\n",
              "                if (this.settings.interactive && !data[i].format) {\n",
              "                    tokenNode.addEventListener('mouseover', () => this.onmouseover(heatIndex), false);\n",
              "                    this.heatIndexToNodeElement.push(tokenNode)\n",
              "                    this.nonFormatData.push(data[i])\n",
              "                }\n",
              "                this.content.appendChild(tokenNode);\n",
              "            }\n",
              "\n",
              "            if (this.highlightIndex !== null) {\n",
              "                this.highlight(this.highlightIndex);\n",
              "            }\n",
              "        }\n",
              "\n",
              "        highlight(index) {\n",
              "            this.highlightIndex = index;\n",
              "\n",
              "            for (let i = 0; i < this.heatIndexToNodeElement.length; i++) {\n",
              "                this.heatIndexToNodeElement[i].style.backgroundColor = viridisSubset(this.nonFormatData[index].heat[i]);\n",
              "                this.heatIndexToNodeElement[i].classList.toggle('selected', i === index);\n",
              "            }\n",
              "\n",
              "            if (this.settings.showMeta) {\n",
              "                while (this.meta.childNodes.length > 0) {\n",
              "                    this.meta.removeChild(this.meta.firstChild);\n",
              "                }\n",
              "\n",
              "                for (let i = 0; i < this.nonFormatData[index].meta.length; i++) {\n",
              "                    const item = document.createElement('div');\n",
              "                    item.classList.add('meta-content-item');\n",
              "                    item.appendChild(document.createTextNode(this.nonFormatData[index].meta[i]));\n",
              "                    this.meta.appendChild(item);\n",
              "                }\n",
              "\n",
              "                if (this.nonFormatData[index].meta.length === 0) {\n",
              "                    const item = document.createElement('div');\n",
              "                    item.classList.add('meta-content-item');\n",
              "                    this.meta.appendChild(item);\n",
              "                }\n",
              "            }\n",
              "        }\n",
              "    }\n",
              "\n",
              "    window.setupTextualHeatmap = function (settings) {\n",
              "        document.getElementById(settings.id).instance = new TextualHeatmap(settings);\n",
              "    };\n",
              "\n",
              "    window.setDataTextualHeatmap = function (settings, data) {\n",
              "        document.getElementById(settings.id).instance.setData(data);\n",
              "    };\n",
              "\n",
              "    window.highlightTextualHeatmap = function (settings, index) {\n",
              "        document.getElementById(settings.id).instance.highlight(index);\n",
              "    };\n",
              "})();</script><div id=\"0c85ec92-a9fc-4ccf-a98d-3fc86f93e093\" class=\"textual-heatmap\"></div><script>  window.setupTextualHeatmap({\"id\": \"0c85ec92-a9fc-4ccf-a98d-3fc86f93e093\", \"width\": 600, \"showMeta\": true, \"facetTitles\": [\"BERT\", \"Distil BERT\"], \"rotateFacetTitles\": false, \"interactive\": true});</script>"
            ],
            "text/plain": [
              "<IPython.core.display.HTML object>"
            ]
          },
          "metadata": {
            "tags": []
          }
        },
        {
          "output_type": "display_data",
          "data": {
            "text/html": [
              "<script>  window.setDataTextualHeatmap({\"id\": \"0c85ec92-a9fc-4ccf-a98d-3fc86f93e093\", \"width\": 600, \"showMeta\": true, \"facetTitles\": [\"BERT\", \"Distil BERT\"], \"rotateFacetTitles\": false, \"interactive\": true}, [[{\"token\": \"[CLR]\", \"meta\": [\"\", \"\", \"\"], \"heat\": [1, 0, 0, 0, 0, 0, 0, 0, 0, 0, 0, 0, 0, 0, 0, 0, 0, 0, 0, 0, 0, 0, 0, 0, 0, 0, 0, 0, 0, 0, 0, 0, 0, 0, 0, 0, 0, 0]}, {\"token\": \" \", \"format\": true}, {\"token\": \"context\", \"meta\": [\"today\", \"and\", \"thus\"], \"heat\": [0.1327134668827057, 0.40471401810646057, 0.23314857482910156, 1.0, 0.5698221325874329, 0.20001079142093658, 0.4173220694065094, 0.23751971125602722, 0.1283734142780304, 0.30113956332206726, 0.29207494854927063, 0.15121400356292725, 0.47073373198509216, 0.14172036945819855, 0.11460626870393753, 0.3309295177459717, 0.27216675877571106, 0.38880687952041626, 0.28752070665359497, 0.30476146936416626, 0.4084959030151367, 0.12109633535146713, 0.23686780035495758, 0.1569289118051529, 0.08568195253610611, 0.28222304582595825, 0.10787464678287506, 0.09868180006742477, 0.11645304411649704, 0.27660080790519714, 0.11508485674858093, 0.13137716054916382, 0.28343963623046875, 0.14258648455142975, 0.7729443907737732, 0.15550577640533447, 0.33421915769577026, 0.2743193507194519]}, {\"token\": \" \", \"format\": true}, {\"token\": \"the\", \"meta\": [\"##ual\", \"the\", \"##ually\"], \"heat\": [0.11053311079740524, 1.0, 0.34174084663391113, 0.5805244445800781, 0.5968601107597351, 0.18530189990997314, 0.23050913214683533, 0.19138814508914948, 0.08227244764566422, 0.19504991173744202, 0.10965480655431747, 0.07133455574512482, 0.21702323853969574, 0.07083482295274734, 0.05262213572859764, 0.094875767827034, 0.07871650904417038, 0.0956844910979271, 0.1038181483745575, 0.11150138825178146, 0.08054126799106598, 0.061609797179698944, 0.13429981470108032, 0.07046934217214584, 0.04503292590379715, 0.1003916934132576, 0.07321838289499283, 0.04508534446358681, 0.040020901709795, 0.13042832911014557, 0.051496874541044235, 0.059106092900037766, 0.194362610578537, 0.05612916126847267, 0.2365490049123764, 0.06449150294065475, 0.08357897400856018, 0.10955781489610672]}, {\"token\": \" \", \"format\": true}, {\"token\": \"formal\", \"meta\": [\"formal\", \"academic\", \"systematic\"], \"heat\": [0.1379433423280716, 0.7412312626838684, 0.26883262395858765, 0.35193726420402527, 1.0, 0.3511814773082733, 0.6798996329307556, 0.23039615154266357, 0.10480891168117523, 0.29196861386299133, 0.24283157289028168, 0.08086936920881271, 0.311083048582077, 0.1600618213415146, 0.07783190906047821, 0.23599576950073242, 0.20367974042892456, 0.254758358001709, 0.3914770483970642, 0.4029642939567566, 0.16113907098770142, 0.08008866012096405, 0.43540507555007935, 0.14515428245067596, 0.058760788291692734, 0.21267752349376678, 0.11644046753644943, 0.0858762264251709, 0.08814971894025803, 0.36374062299728394, 0.07122408598661423, 0.07023800164461136, 0.1380653977394104, 0.13756759464740753, 0.7550926804542542, 0.10494633764028549, 0.2359657734632492, 0.1274537593126297]}, {\"token\": \" \", \"format\": true}, {\"token\": \"study\", \"meta\": [\"##ization\", \"study\", \"##ity\"], \"heat\": [0.09374082833528519, 0.276137113571167, 0.19584570825099945, 1.0, 0.2668628990650177, 0.12618695199489594, 0.5485847592353821, 0.10671635717153549, 0.05578231438994408, 0.168951615691185, 0.14708182215690613, 0.08301714062690735, 0.2549331784248352, 0.05449995398521423, 0.0407552644610405, 0.09658132493495941, 0.08113139122724533, 0.10979720205068588, 0.09126586467027664, 0.16856835782527924, 0.10670912265777588, 0.04912811890244484, 0.12720683217048645, 0.10207134485244751, 0.040946684777736664, 0.1492443084716797, 0.07131382822990417, 0.059126805514097214, 0.05782807618379593, 0.23586075007915497, 0.052850350737571716, 0.03720797225832939, 0.08448009938001633, 0.052443984895944595, 0.23795700073242188, 0.07916098833084106, 0.06218646839261055, 0.10799193382263184]}, {\"token\": \" \", \"format\": true}, {\"token\": \"of\", \"meta\": [\"of\", \",\", \"the\"], \"heat\": [0.1723620593547821, 1.0, 0.49656686186790466, 0.5609709620475769, 0.69289630651474, 0.37088024616241455, 0.5890324115753174, 0.19611676037311554, 0.0936783030629158, 0.19113673269748688, 0.1331060528755188, 0.13753651082515717, 0.26279106736183167, 0.08134065568447113, 0.05357416346669197, 0.10540781170129776, 0.09048347920179367, 0.08953394740819931, 0.13667653501033783, 0.11433756351470947, 0.11026962846517563, 0.05795501172542572, 0.12386422604322433, 0.0885973647236824, 0.042766422033309937, 0.31628280878067017, 0.07349053025245667, 0.0926554799079895, 0.08770589530467987, 0.20391502976417542, 0.05270522087812424, 0.0661490187048912, 0.16070790588855743, 0.05872023105621338, 0.3202410936355591, 0.062171924859285355, 0.1467992216348648, 0.0807473212480545]}, {\"token\": \" \", \"format\": true}, {\"token\": \"grammar\", \"meta\": [\"grammar\", \"languages\", \"language\"], \"heat\": [0.23199307918548584, 0.5654512047767639, 0.18801692128181458, 0.7027518153190613, 0.7276150584220886, 0.45114442706108093, 0.3218251168727875, 0.14547745883464813, 0.10535946488380432, 0.21003712713718414, 0.14148271083831787, 0.08474830538034439, 0.315461128950119, 0.083334781229496, 0.0932089239358902, 0.1854398250579834, 0.18936483561992645, 0.10245542973279953, 0.2703005075454712, 0.20253485441207886, 0.2712210416793823, 0.1290227472782135, 0.5765679478645325, 0.2133311629295349, 0.09387022256851196, 0.3399430215358734, 0.16595709323883057, 0.13236607611179352, 0.13381125032901764, 0.7576883435249329, 0.13187755644321442, 0.0948990136384964, 0.23879319429397583, 0.11759186536073685, 1.0, 0.21400435268878937, 0.1407417356967926, 0.1397738754749298]}, {\"token\": \" \", \"format\": true}, {\"token\": \"is\", \"meta\": [\"is\", \"becomes\", \"remains\"], \"heat\": [0.42027032375335693, 1.0, 0.2692295014858246, 0.4060726761817932, 0.4046284556388855, 0.2006019651889801, 0.3646598160266876, 0.5905241966247559, 0.20056895911693573, 0.4023444652557373, 0.3307819962501526, 0.1542171835899353, 0.4355309307575226, 0.19309769570827484, 0.17313674092292786, 0.5905305743217468, 0.4472467303276062, 0.39082494378089905, 0.3719478249549866, 0.27522730827331543, 0.23840907216072083, 0.09466417133808136, 0.19043266773223877, 0.12069739401340485, 0.061455849558115005, 0.2723015546798706, 0.14372171461582184, 0.14130130410194397, 0.08709926903247833, 0.2256467342376709, 0.16143472492694855, 0.09842469543218613, 0.1988019198179245, 0.12386861443519592, 0.39105671644210815, 0.07263432443141937, 0.328456848859787, 0.47374939918518066]}, {\"token\": \" \", \"format\": true}, {\"token\": \"an\", \"meta\": [\"an\", \"another\", \"one\"], \"heat\": [0.2506057918071747, 0.6574752926826477, 0.2746450901031494, 0.3151707053184509, 0.2950665354728699, 0.26598691940307617, 0.3236757814884186, 0.25738102197647095, 0.4117231070995331, 1.0, 0.5926589369773865, 0.25659286975860596, 0.37378931045532227, 0.16461622714996338, 0.11834152787923813, 0.31994396448135376, 0.28554150462150574, 0.6219292283058167, 0.37037643790245056, 0.25640007853507996, 0.3812090754508972, 0.11394184827804565, 0.3462408483028412, 0.13205961883068085, 0.07010699063539505, 0.18636342883110046, 0.10107381641864777, 0.134482741355896, 0.09954448789358139, 0.33360037207603455, 0.10440611094236374, 0.08814410120248795, 0.3464292883872986, 0.1467212289571762, 0.32208389043807983, 0.1830883026123047, 0.42165717482566833, 0.5688335299491882]}, {\"token\": \" \", \"format\": true}, {\"token\": \"important\", \"meta\": [\"important\", \"integral\", \"essential\"], \"heat\": [0.13688157498836517, 0.6846073269844055, 0.22887685894966125, 0.6209721565246582, 0.49078935384750366, 0.13969561457633972, 0.39072808623313904, 0.27377957105636597, 1.0, 0.3430047035217285, 0.6578884720802307, 0.22251254320144653, 0.6137818694114685, 0.177646204829216, 0.1990390419960022, 0.2819879353046417, 0.23786704242229462, 0.4005506634712219, 0.359812468290329, 0.2335289865732193, 0.21086987853050232, 0.0860585868358612, 0.24526995420455933, 0.1363394409418106, 0.05091596767306328, 0.4238683879375458, 0.08300106227397919, 0.09255871176719666, 0.06560274958610535, 0.24690082669258118, 0.16568802297115326, 0.06388458609580994, 0.2219330370426178, 0.11471445858478546, 0.3136450946331024, 0.1260116994380951, 0.18138572573661804, 0.3991544544696808]}, {\"token\": \" \", \"format\": true}, {\"token\": \"part\", \"meta\": [\"part\", \"aspect\", \"area\"], \"heat\": [0.07383012771606445, 0.2553791403770447, 0.08788648992776871, 0.20090222358703613, 0.2592315971851349, 0.08163583278656006, 0.17956700921058655, 0.19126060605049133, 0.21534880995750427, 0.7102042436599731, 0.36443501710891724, 0.29066476225852966, 1.0, 0.12408814579248428, 0.067452572286129, 0.1287960410118103, 0.11609317362308502, 0.08719266951084137, 0.19075219333171844, 0.11358311772346497, 0.08534769713878632, 0.05310038477182388, 0.11460596323013306, 0.06888358294963837, 0.03296338766813278, 0.08193068951368332, 0.04429106414318085, 0.04119078442454338, 0.04522671550512314, 0.13885842263698578, 0.053575627505779266, 0.03987812250852585, 0.09081893414258957, 0.06143321469426155, 0.17057056725025177, 0.06487814337015152, 0.07170766592025757, 0.16150756180286407]}, {\"token\": \" \", \"format\": true}, {\"token\": \"of\", \"meta\": [\"of\", \"in\", \"for\"], \"heat\": [0.22315584123134613, 0.4902391731739044, 0.17018195986747742, 0.24674175679683685, 0.2773888409137726, 0.11224179714918137, 0.40589311718940735, 0.2679787576198578, 0.22392110526561737, 0.7546407580375671, 1.0, 0.35701435804367065, 0.8536447882652283, 0.18631383776664734, 0.12868039309978485, 0.32438936829566956, 0.2326018214225769, 0.29434213042259216, 0.23748712241649628, 0.20376573503017426, 0.2966807186603546, 0.07666581124067307, 0.26170751452445984, 0.11776138842105865, 0.05548973008990288, 0.18774853646755219, 0.11765074729919434, 0.10208233445882797, 0.05921482667326927, 0.2951482832431793, 0.09249009191989899, 0.06056622043251991, 0.20467136800289154, 0.09831690788269043, 0.345220148563385, 0.07096883654594421, 0.20885752141475677, 0.23747621476650238]}, {\"token\": \" \", \"format\": true}, {\"token\": \"education\", \"meta\": [\"education\", \"learning\", \"development\"], \"heat\": [0.23874665796756744, 0.569030225276947, 0.2320013791322708, 0.5382343530654907, 0.42393869161605835, 0.19765585660934448, 0.5432913899421692, 0.20579466223716736, 0.15155260264873505, 0.6148614883422852, 0.4884539246559143, 0.2010127454996109, 0.6012606024742126, 0.2594393193721771, 0.16184858977794647, 0.4193103015422821, 0.4919871985912323, 0.48999837040901184, 0.6117599606513977, 0.7021151185035706, 0.2656480073928833, 0.1195753887295723, 0.2536165118217468, 0.32054436206817627, 0.09682685136795044, 0.46169546246528625, 0.10298005491495132, 0.08726572245359421, 0.07939264923334122, 0.3808102011680603, 0.15212365984916687, 0.09399070590734482, 0.1909751296043396, 0.1572742462158203, 1.0, 0.17722861468791962, 0.17850451171398163, 0.1495504528284073]}, {\"token\": \" \", \"format\": true}, {\"token\": \"from\", \"meta\": [\"from\", \"at\", \"for\"], \"heat\": [0.14090166985988617, 0.4266243875026703, 0.11892027407884598, 0.19441895186901093, 0.16601848602294922, 0.11546800285577774, 0.2820051908493042, 0.11755069345235825, 0.09935028105974197, 0.21875590085983276, 0.18254470825195312, 0.10925094783306122, 0.4456828236579895, 0.41875892877578735, 0.3085988163948059, 1.0, 0.7574166059494019, 0.22330838441848755, 0.2489522397518158, 0.24338307976722717, 0.17903654277324677, 0.061717625707387924, 0.1890714168548584, 0.12292646616697311, 0.04596176743507385, 0.11977952718734741, 0.07374334335327148, 0.06440325081348419, 0.05290155112743378, 0.2333373725414276, 0.059284936636686325, 0.05417171120643616, 0.12273652851581573, 0.06570291519165039, 0.227819561958313, 0.07492739707231522, 0.2342754453420639, 0.2954994738101959]}, {\"token\": \" \", \"format\": true}, {\"token\": \"a\", \"meta\": [\"a\", \"the\", \"very\"], \"heat\": [0.14535948634147644, 0.33988282084465027, 0.10436976701021194, 0.14412066340446472, 0.13249064981937408, 0.11626178026199341, 0.1261458694934845, 0.09639789909124374, 0.08430102467536926, 0.21015922725200653, 0.138675719499588, 0.09260306507349014, 0.33092841506004333, 0.3061295747756958, 0.37729617953300476, 1.0, 0.8445200324058533, 0.2745770215988159, 0.30532434582710266, 0.19994734227657318, 0.1251077800989151, 0.04541594535112381, 0.10941984504461288, 0.07615777850151062, 0.041113704442977905, 0.16074688732624054, 0.08677468448877335, 0.06137752905488014, 0.03953747823834419, 0.10644737631082535, 0.036145810037851334, 0.04019155725836754, 0.11681527644395828, 0.06943877786397934, 0.2305547446012497, 0.050006330013275146, 0.15549522638320923, 0.1650819033384323]}, {\"token\": \" \", \"format\": true}, {\"token\": \"young\", \"meta\": [\"young\", \"younger\", \"early\"], \"heat\": [0.19973373413085938, 0.29276400804519653, 0.12312255054712296, 0.26206842064857483, 0.25412729382514954, 0.09304486215114594, 0.27972954511642456, 0.15088491141796112, 0.09759829938411713, 0.18177109956741333, 0.15050068497657776, 0.07539436221122742, 0.3523860573768616, 0.3780681788921356, 0.4954211115837097, 0.4162990152835846, 1.0, 0.5182651281356812, 0.81519615650177, 0.5786734223365784, 0.16538414359092712, 0.08061588555574417, 0.23142793774604797, 0.1337144523859024, 0.07805772870779037, 0.25610777735710144, 0.0651339739561081, 0.05779235064983368, 0.04787642881274223, 0.1631757766008377, 0.07464423775672913, 0.04810277745127678, 0.145191952586174, 0.08790364861488342, 0.3992291986942291, 0.06294824928045273, 0.20007716119289398, 0.17419597506523132]}, {\"token\": \" \", \"format\": true}, {\"token\": \"age\", \"meta\": [\"age\", \"adult\", \"child\"], \"heat\": [0.05228603258728981, 0.07877884805202484, 0.043601565062999725, 0.0739000216126442, 0.07907698303461075, 0.043371692299842834, 0.0898020938038826, 0.05097537860274315, 0.03778752312064171, 0.11897150427103043, 0.069185271859169, 0.050333086401224136, 0.21059167385101318, 0.18527840077877045, 0.2812752425670624, 1.0, 0.17603282630443573, 0.1533956676721573, 0.18670758605003357, 0.13681727647781372, 0.055915530771017075, 0.03518254682421684, 0.07442229986190796, 0.0597708635032177, 0.03083527274429798, 0.14065811038017273, 0.03668620064854622, 0.024955200031399727, 0.023823348805308342, 0.08422871679067612, 0.018047185614705086, 0.026965951547026634, 0.04300198704004288, 0.02796882949769497, 0.12279842793941498, 0.02815282717347145, 0.0585220567882061, 0.09139992296695709]}, {\"token\": \" \", \"format\": true}, {\"token\": \"through\", \"meta\": [\"to\", \"through\", \"and\"], \"heat\": [0.1515369713306427, 0.5736128687858582, 0.1824696958065033, 0.2691194713115692, 0.2513475716114044, 0.13080522418022156, 0.38726818561553955, 0.14106087386608124, 0.10433534532785416, 0.24107928574085236, 0.1889263093471527, 0.12399560213088989, 0.4369599521160126, 0.2653667628765106, 0.1424691081047058, 0.4150677025318146, 0.4060955047607422, 0.3739418089389801, 0.746619462966919, 1.0, 0.4669753611087799, 0.19329175353050232, 0.25176095962524414, 0.15253199636936188, 0.06992822885513306, 0.42090922594070435, 0.1931108981370926, 0.10779334604740143, 0.0859593078494072, 0.39109840989112854, 0.07506366819143295, 0.06767401099205017, 0.18128252029418945, 0.10061855614185333, 0.30480363965034485, 0.08082232624292374, 0.25615113973617554, 0.2222273200750351]}, {\"token\": \" \", \"format\": true}, {\"token\": \"advanced\", \"meta\": [\"language\", \"formal\", \"informal\"], \"heat\": [0.11087042093276978, 0.19071000814437866, 0.07877369970083237, 0.23378781974315643, 0.2008143961429596, 0.06603890657424927, 0.2701234519481659, 0.09101265668869019, 0.06556767225265503, 0.1380237638950348, 0.08777293562889099, 0.08440915495157242, 0.35255542397499084, 0.1550646275281906, 0.07829345762729645, 0.3071490526199341, 0.27133169770240784, 0.5447717905044556, 0.3052688539028168, 1.0, 0.21258904039859772, 0.08382774144411087, 0.21107381582260132, 0.1689508855342865, 0.05689580366015434, 0.2550417184829712, 0.09095119684934616, 0.05307711660861969, 0.04590334743261337, 0.24542732536792755, 0.04279797151684761, 0.03526349738240242, 0.07805430889129639, 0.046243514865636826, 0.29542404413223267, 0.040135759860277176, 0.06715348362922668, 0.13388583064079285]}, {\"token\": \" \", \"format\": true}, {\"token\": \"learning\", \"meta\": [\"age\", \"adulthood\", \"years\"], \"heat\": [0.07895868271589279, 0.18656599521636963, 0.07323583960533142, 0.1494676023721695, 0.11439656466245651, 0.0635794922709465, 0.10547808557748795, 0.06201915815472603, 0.03823543339967728, 0.09599538147449493, 0.06963897496461868, 0.05998135730624199, 0.15727835893630981, 0.14392490684986115, 0.08363429456949234, 0.2428620606660843, 0.2992592751979828, 0.5560888648033142, 1.0, 0.29080677032470703, 0.1733638346195221, 0.07292903959751129, 0.12220806628465652, 0.10117422044277191, 0.03688861429691315, 0.15647101402282715, 0.052496690303087234, 0.054886262863874435, 0.027812056243419647, 0.07896225154399872, 0.028948504477739334, 0.03580819070339203, 0.07990061491727829, 0.042643409222364426, 0.13727010786533356, 0.035866785794496536, 0.11629719287157059, 0.11910532414913177]}, {\"token\": \" \", \"format\": true}, {\"token\": \"though\", \"meta\": [\",\", \".\", \"and\"], \"heat\": [0.15665891766548157, 1.0, 0.192039355635643, 0.34972891211509705, 0.1828783005475998, 0.07883948087692261, 0.16824282705783844, 0.1888851821422577, 0.07832590490579605, 0.16456830501556396, 0.13863247632980347, 0.07058641314506531, 0.29726114869117737, 0.09131976217031479, 0.055426545441150665, 0.11675319075584412, 0.10924285650253296, 0.21889065206050873, 0.20575563609600067, 0.1690654158592224, 0.2434251308441162, 0.09767844527959824, 0.18689672648906708, 0.11085731536149979, 0.07305069267749786, 0.24220456182956696, 0.1383163183927536, 0.11541803926229477, 0.13320471346378326, 0.1645459681749344, 0.06209303438663483, 0.05053819343447685, 0.16452430188655853, 0.08863142132759094, 0.21059055626392365, 0.07494664937257767, 0.16465921700000763, 0.24874316155910492]}, {\"token\": \" \", \"format\": true}, {\"token\": \"the\", \"meta\": [\"the\", \"grammar\", \"some\"], \"heat\": [0.14006547629833221, 0.26858577132225037, 0.11306923627853394, 0.16363663971424103, 0.2158803790807724, 0.09623643010854721, 0.6364043951034546, 0.1098741814494133, 0.0723796933889389, 0.16079378128051758, 0.0942118763923645, 0.0727837011218071, 0.22825399041175842, 0.060188550502061844, 0.065859854221344, 0.10427359491586685, 0.1289862096309662, 0.09866002947092056, 0.22194965183734894, 0.24202172458171844, 0.5492050051689148, 0.35220637917518616, 1.0, 0.9244357347488403, 0.5207222104072571, 0.555319607257843, 0.21602405607700348, 0.16080176830291748, 0.17837724089622498, 0.4462621808052063, 0.09068375080823898, 0.07902458310127258, 0.192037433385849, 0.1332067847251892, 0.4799370765686035, 0.09089069068431854, 0.2232125848531723, 0.3958653509616852]}, {\"token\": \" \", \"format\": true}, {\"token\": \"rules\", \"meta\": [\"languages\", \"words\", \"sentences\"], \"heat\": [0.14133653044700623, 0.2623976171016693, 0.07529862225055695, 0.21868355572223663, 0.27147361636161804, 0.1137547418475151, 0.5230238437652588, 0.14752544462680817, 0.050022292882204056, 0.12402848899364471, 0.07381989806890488, 0.04568125680088997, 0.28858914971351624, 0.07768481969833374, 0.05257965996861458, 0.10313630104064941, 0.1032801941037178, 0.07183332741260529, 0.1797003298997879, 0.3633762001991272, 0.2226206660270691, 0.14478284120559692, 0.31883344054222107, 0.5492050051689148, 0.22284211218357086, 0.9214150309562683, 0.24043360352516174, 0.20064550638198853, 0.22317086160182953, 1.0, 0.11955326795578003, 0.11823372542858124, 0.21206307411193848, 0.11832945793867111, 0.5925307869911194, 0.08680590987205505, 0.19462604820728302, 0.15797565877437592]}, {\"token\": \" \", \"format\": true}, {\"token\": \"taught\", \"meta\": [\"used\", \"taught\", \"found\"], \"heat\": [0.07827938348054886, 0.1348579078912735, 0.04657230153679848, 0.11979619413614273, 0.15194368362426758, 0.0757419541478157, 0.30075502395629883, 0.05881429836153984, 0.04684920608997345, 0.10391061007976532, 0.059177979826927185, 0.04719000682234764, 0.19165761768817902, 0.044651515781879425, 0.04580726474523544, 0.13340920209884644, 0.076532743871212, 0.0547482892870903, 0.1376785933971405, 0.16058871150016785, 0.14807948470115662, 0.19960853457450867, 1.0, 0.23457953333854675, 0.287738174200058, 0.654182493686676, 0.10611021518707275, 0.0761917307972908, 0.09459121525287628, 0.3691823184490204, 0.06461813300848007, 0.07036705315113068, 0.10890853404998779, 0.07728224247694016, 0.3301628530025482, 0.08275242894887924, 0.17800776660442352, 0.09305085241794586]}, {\"token\": \" \", \"format\": true}, {\"token\": \"in\", \"meta\": [\"in\", \"at\", \"by\"], \"heat\": [0.16171175241470337, 0.3414837121963501, 0.11346978694200516, 0.16613854467868805, 0.22854368388652802, 0.20408181846141815, 0.32533055543899536, 0.16574274003505707, 0.0737430676817894, 0.14286237955093384, 0.09327623248100281, 0.07072075456380844, 0.27461621165275574, 0.07317586988210678, 0.0912444218993187, 0.18679049611091614, 0.13096846640110016, 0.17075686156749725, 0.17898626625537872, 0.20002897083759308, 0.18462252616882324, 0.19355009496212006, 0.7029959559440613, 0.6859236359596252, 0.3544353246688843, 1.0, 0.19200921058654785, 0.10230661183595657, 0.09124879539012909, 0.3996428847312927, 0.06739448010921478, 0.07585787028074265, 0.2239675372838974, 0.12182687968015671, 0.47142353653907776, 0.0888591930270195, 0.3589068353176117, 0.36871886253356934]}, {\"token\": \" \", \"format\": true}, {\"token\": \"schools\", \"meta\": [\"english\", \"context\", \"schools\"], \"heat\": [0.15552830696105957, 1.0, 0.26108917593955994, 0.27941471338272095, 0.32615602016448975, 0.14760588109493256, 0.30549395084381104, 0.19558604061603546, 0.07936692982912064, 0.1653231978416443, 0.1210932731628418, 0.08311433345079422, 0.4074040353298187, 0.08399847894906998, 0.07284566760063171, 0.18842488527297974, 0.13001006841659546, 0.1435156911611557, 0.23040102422237396, 0.37976235151290894, 0.19234462082386017, 0.15143059194087982, 0.48539990186691284, 0.6687037944793701, 0.29102998971939087, 0.336445152759552, 0.16908074915409088, 0.11274828016757965, 0.09886185079813004, 0.3130621016025543, 0.06854232400655746, 0.08333298563957214, 0.2159775048494339, 0.10911199450492859, 0.43943020701408386, 0.13054855167865753, 0.1367788016796112, 0.1425614356994629]}, {\"token\": \" \", \"format\": true}, {\"token\": \"are\", \"meta\": [\"are\", \"is\", \"were\"], \"heat\": [0.1097639873623848, 0.17780058085918427, 0.08260200172662735, 0.12497995048761368, 0.14729006588459015, 0.07199286669492722, 0.2815250754356384, 0.1168261393904686, 0.10958435386419296, 0.13993112742900848, 0.08334368467330933, 0.061433661729097366, 0.16105404496192932, 0.0566682294011116, 0.06075117737054825, 0.13337387144565582, 0.14293260872364044, 0.09539832174777985, 0.15873266756534576, 0.18413181602954865, 0.39885249733924866, 0.3020240068435669, 0.7994120121002197, 0.24481193721294403, 0.09695074707269669, 0.2777978181838989, 0.2767094671726227, 0.3944060802459717, 0.39240187406539917, 1.0, 0.1547483652830124, 0.11535775661468506, 0.2762833833694458, 0.17520222067832947, 0.36681848764419556, 0.10098493099212646, 0.4179844558238983, 0.5137248635292053]}, {\"token\": \" \", \"format\": true}, {\"token\": \"not\", \"meta\": [\"not\", \"essentially\", \"considered\"], \"heat\": [0.11390142142772675, 0.24341478943824768, 0.09046673029661179, 0.18363818526268005, 0.1710103452205658, 0.06091795489192009, 0.3800728917121887, 0.08625668287277222, 0.14779016375541687, 0.22632433474063873, 0.10468971729278564, 0.048885829746723175, 0.1365620493888855, 0.06079641729593277, 0.06675469130277634, 0.10742489993572235, 0.08902905136346817, 0.10248854756355286, 0.10516755282878876, 0.13224303722381592, 0.4748237729072571, 0.16426312923431396, 0.4131787419319153, 0.15961286425590515, 0.10936106741428375, 0.1608499437570572, 0.353828102350235, 0.2665690779685974, 0.26798945665359497, 1.0, 0.18634597957134247, 0.17780329287052155, 0.6367316246032715, 0.19829851388931274, 0.3539031744003296, 0.11545209586620331, 0.19976337254047394, 0.1822044849395752]}, {\"token\": \" \", \"format\": true}, {\"token\": \"a\", \"meta\": [\"about\", \"called\", \"just\"], \"heat\": [0.08910166472196579, 0.13593019545078278, 0.044126059859991074, 0.14374400675296783, 0.1306946724653244, 0.0670444443821907, 0.2901918590068817, 0.08555333316326141, 0.033309534192085266, 0.06899214535951614, 0.04459938034415245, 0.03868896886706352, 0.12673385441303253, 0.035676952451467514, 0.06341831386089325, 0.09793785959482193, 0.07128883898258209, 0.049556877464056015, 0.10092901438474655, 0.08950819820165634, 0.09770239144563675, 0.09127357602119446, 0.3565184772014618, 0.18980473279953003, 0.07746997475624084, 0.28746166825294495, 0.16722175478935242, 0.12335529178380966, 0.293254017829895, 1.0, 0.1346196085214615, 0.14123600721359253, 0.23145978152751923, 0.08490759134292603, 0.23495781421661377, 0.0672597661614418, 0.1214255541563034, 0.10033370554447174]}, {\"token\": \" \", \"format\": true}, {\"token\": \"grammar\", \"meta\": [\"rule\", \"requirement\", \"grammar\"], \"heat\": [0.13921868801116943, 0.3258717358112335, 0.10639364272356033, 0.2608754634857178, 0.2880358099937439, 0.12493874132633209, 0.9424045085906982, 0.11106494069099426, 0.07620561122894287, 0.2906102240085602, 0.11097066849470139, 0.10783342272043228, 0.23231463134288788, 0.12850308418273926, 0.08227620273828506, 0.13077791035175323, 0.10700530558824539, 0.10694841295480728, 0.28188204765319824, 0.32725679874420166, 0.36963433027267456, 0.39610031247138977, 1.0, 0.4211669862270355, 0.1624957025051117, 0.3600960075855255, 0.23133067786693573, 0.28024592995643616, 0.4209992587566376, 0.3431299328804016, 0.38824737071990967, 0.22303198277950287, 0.920114278793335, 0.31799665093421936, 0.7301489114761353, 0.2145434468984604, 0.40876829624176025, 0.31340986490249634]}, {\"token\": \" \", \"format\": true}, {\"token\": \"in\", \"meta\": [\"in\", \"of\", \",\"], \"heat\": [0.10954564064741135, 0.19190694391727448, 0.05990932136774063, 0.0813651829957962, 0.0985267385840416, 0.06661395728588104, 0.18005932867527008, 0.09290887415409088, 0.07740609347820282, 0.10585533827543259, 0.06041891127824783, 0.05507052317261696, 0.10821904987096786, 0.042843494564294815, 0.059667449444532394, 0.07996474206447601, 0.098200723528862, 0.12140157073736191, 0.07696649432182312, 0.14079345762729645, 0.17404870688915253, 0.07475855201482773, 0.17514222860336304, 0.1287849396467209, 0.0764772966504097, 0.14312207698822021, 0.12177658081054688, 0.18449346721172333, 0.1759040802717209, 0.5449616312980652, 0.3211629390716553, 0.26584434509277344, 1.0, 0.3606583774089813, 0.4172029197216034, 0.19262678921222687, 0.6562966108322144, 0.6884917616844177]}, {\"token\": \" \", \"format\": true}, {\"token\": \"the\", \"meta\": [\"the\", \"a\", \"that\"], \"heat\": [0.09822511672973633, 0.252338171005249, 0.07403137534856796, 0.08279076218605042, 0.06962276995182037, 0.05940232798457146, 0.09837977588176727, 0.0691397488117218, 0.06643102318048477, 0.08968231081962585, 0.053966224193573, 0.04772912710905075, 0.10620392858982086, 0.0415562279522419, 0.05177157372236252, 0.0833640843629837, 0.05962677672505379, 0.09152015298604965, 0.09350283443927765, 0.07887118309736252, 0.15041129291057587, 0.12468212842941284, 0.1307661384344101, 0.10603074729442596, 0.061871238052845, 0.09080866724252701, 0.10989208519458771, 0.15416142344474792, 0.1223551332950592, 0.26410973072052, 0.4281943738460541, 0.4370548129081726, 1.0, 0.40269389748573303, 0.3769743740558624, 0.36366426944732666, 0.5415547490119934, 0.3882284164428711]}, {\"token\": \" \", \"format\": true}, {\"token\": \"sense\", \"meta\": [\"sense\", \"way\", \"manner\"], \"heat\": [0.11504372209310532, 0.24994690716266632, 0.10129880160093307, 0.14811381697654724, 0.09543488919734955, 0.10797584056854248, 0.17168833315372467, 0.05875638872385025, 0.040668342262506485, 0.13605590164661407, 0.047847405076026917, 0.05974873527884483, 0.10484138131141663, 0.043486423790454865, 0.05520196259021759, 0.06392718106508255, 0.058087095618247986, 0.08372000604867935, 0.10857273638248444, 0.09983833134174347, 0.14209146797657013, 0.0782792791724205, 0.21273235976696014, 0.12010239064693451, 0.18515363335609436, 0.2969472408294678, 0.14864729344844818, 0.16913078725337982, 0.13207508623600006, 0.4365784227848053, 0.2120172530412674, 0.31454795598983765, 0.838559091091156, 0.36240336298942566, 0.5729461312294006, 0.3810170590877533, 0.8729395270347595, 1.0]}, {\"token\": \" \", \"format\": true}, {\"token\": \"most\", \"meta\": [\"of\", \"that\", \"most\"], \"heat\": [0.0904478207230568, 0.1550075113773346, 0.04946180433034897, 0.11941877752542496, 0.07721420377492905, 0.06791233271360397, 0.19356606900691986, 0.08628877252340317, 0.0399567112326622, 0.08578768372535706, 0.049527253955602646, 0.04899528995156288, 0.13964398205280304, 0.03773379325866699, 0.03832462430000305, 0.06554398685693741, 0.06577257066965103, 0.0609455369412899, 0.09146780520677567, 0.15388615429401398, 0.13988354802131653, 0.0700165182352066, 0.18876217305660248, 0.09094901382923126, 0.059123747050762177, 0.24237468838691711, 0.0910608321428299, 0.13733716309070587, 0.06368221342563629, 0.2192104607820511, 0.16653257608413696, 0.15427331626415253, 0.5651411414146423, 0.31828564405441284, 1.0, 0.5767650604248047, 0.5052433609962463, 0.712413489818573]}, {\"token\": \" \", \"format\": true}, {\"token\": \"linguist\", \"meta\": [\"linguist\", \"grammar\", \"interpreter\"], \"heat\": [0.11982479691505432, 0.22420363128185272, 0.07151314616203308, 0.2076825648546219, 0.29965683817863464, 0.08964332938194275, 1.0, 0.08802182972431183, 0.05322084203362465, 0.12785185873508453, 0.05771341174840927, 0.04537130147218704, 0.19753362238407135, 0.04463543742895126, 0.058815501630306244, 0.0758357122540474, 0.06742129474878311, 0.0553237609565258, 0.11930974572896957, 0.1173592060804367, 0.08213052153587341, 0.07180047035217285, 0.2377149909734726, 0.13481637835502625, 0.06237761676311493, 0.28689491748809814, 0.08050604909658432, 0.09998247027397156, 0.08649850636720657, 0.6121562123298645, 0.13081303238868713, 0.23649777472019196, 0.23302246630191803, 0.3235779404640198, 0.27637967467308044, 0.20543615520000458, 0.2597680687904358, 0.1503509283065796]}, {\"token\": \"s\", \"meta\": [\"##s\", \"##ians\", \"should\"], \"heat\": [0.05115760490298271, 0.07586976885795593, 0.03759768232703209, 0.0666218027472496, 0.05460420250892639, 0.04780334234237671, 0.12169235199689865, 0.029710642993450165, 0.025473233312368393, 0.05027785524725914, 0.030554668977856636, 0.02246762253344059, 0.07545123994350433, 0.021901585161685944, 0.022274399176239967, 0.05378075689077377, 0.05007903277873993, 0.041583068668842316, 0.07782883197069168, 0.07498771697282791, 0.057858068495988846, 0.030192798003554344, 0.09342396259307861, 0.05269975960254669, 0.02864198014140129, 0.1304982751607895, 0.04584618657827377, 0.06180039048194885, 0.03417560085654259, 0.11923340708017349, 0.06563052535057068, 0.09490519762039185, 0.2422778606414795, 0.19756194949150085, 1.0, 0.213531494140625, 0.22170600295066833, 0.0920397937297821]}, {\"token\": \" \", \"format\": true}, {\"token\": \"use\", \"meta\": [\".\", \";\", \"!\"], \"heat\": [0.17552870512008667, 0.42330601811408997, 0.10413054376840591, 0.23477840423583984, 0.16157658398151398, 0.07721497118473053, 0.13140667974948883, 0.10781602561473846, 0.055786438286304474, 0.17070068418979645, 0.094843290746212, 0.04421490058302879, 0.12619490921497345, 0.0488797202706337, 0.05017339065670967, 0.1264595240354538, 0.07395728677511215, 0.07328841090202332, 0.12229637801647186, 0.10059551894664764, 0.16320189833641052, 0.08059171587228775, 0.17039798200130463, 0.0908849686384201, 0.05697883293032646, 0.18968448042869568, 0.1426006704568863, 0.16225704550743103, 0.11365500092506409, 0.1845763623714447, 0.5241875052452087, 0.3615987300872803, 1.0, 0.5284264087677002, 0.5468573570251465, 0.2580432593822479, 0.5246437191963196, 0.20535078644752502]}, {\"token\": \" \", \"format\": true}, {\"token\": \"[SEP]\", \"meta\": [\"\", \"\", \"\"], \"heat\": [0, 0, 0, 0, 0, 0, 0, 0, 0, 0, 0, 0, 0, 0, 0, 0, 0, 0, 0, 0, 0, 0, 0, 0, 0, 0, 0, 0, 0, 0, 0, 0, 0, 0, 0, 0, 0, 1]}], [{\"token\": \"[CLR]\", \"meta\": [\"\", \"\", \"\"], \"heat\": [1, 0, 0, 0, 0, 0, 0, 0, 0, 0, 0, 0, 0, 0, 0, 0, 0, 0, 0, 0, 0, 0, 0, 0, 0, 0, 0, 0, 0, 0, 0, 0, 0, 0, 0, 0, 0, 0]}, {\"token\": \" \", \"format\": true}, {\"token\": \"context\", \"meta\": [\"today\", \"nowadays\", \"\\u2022\"], \"heat\": [0.20007547736167908, 1.0, 0.4579046070575714, 0.48307597637176514, 0.36085808277130127, 0.1763189733028412, 0.2936704158782959, 0.3430437445640564, 0.2089184671640396, 0.28293997049331665, 0.2995876371860504, 0.11785063147544861, 0.2449634075164795, 0.23436498641967773, 0.177024245262146, 0.2062917798757553, 0.14867693185806274, 0.24321162700653076, 0.19189956784248352, 0.176632821559906, 0.33191704750061035, 0.13088633120059967, 0.259723961353302, 0.12360925227403641, 0.08306092768907547, 0.1653289943933487, 0.1328534036874771, 0.0899919867515564, 0.08851506561040878, 0.28193166851997375, 0.12021756172180176, 0.11562100052833557, 0.15319517254829407, 0.13289707899093628, 0.8832381963729858, 0.11152535676956177, 0.18397760391235352, 0.1361757069826126]}, {\"token\": \" \", \"format\": true}, {\"token\": \"the\", \"meta\": [\"##ual\", \"##ually\", \"##ful\"], \"heat\": [0.09488185495138168, 1.0, 0.2910267114639282, 0.19877855479717255, 0.38929128646850586, 0.18522481620311737, 0.09263291954994202, 0.15781760215759277, 0.05797398090362549, 0.12661290168762207, 0.05675271898508072, 0.033494941890239716, 0.06759854406118393, 0.033675599843263626, 0.03260194510221481, 0.049218736588954926, 0.03555727377533913, 0.03501511737704277, 0.05322977155447006, 0.0467948243021965, 0.04837299510836601, 0.028473297134041786, 0.05760926380753517, 0.03611096367239952, 0.01963583007454872, 0.04370489716529846, 0.04707098379731178, 0.03558759763836861, 0.027929311618208885, 0.04689495638012886, 0.020914603024721146, 0.02589108608663082, 0.046976909041404724, 0.035645585507154465, 0.1452690064907074, 0.03054087795317173, 0.04329008236527443, 0.047572847455739975]}, {\"token\": \" \", \"format\": true}, {\"token\": \"formal\", \"meta\": [\"linguistic\", \"practical\", \"systematic\"], \"heat\": [0.17072996497154236, 0.7711602449417114, 0.43375343084335327, 0.5177699327468872, 1.0, 0.44945821166038513, 0.324635773897171, 0.32084158062934875, 0.20445898175239563, 0.2753453850746155, 0.19398008286952972, 0.12919177114963531, 0.280653178691864, 0.11405488103628159, 0.12934131920337677, 0.2602159380912781, 0.20583513379096985, 0.13160301744937897, 0.28078773617744446, 0.19613109529018402, 0.15199051797389984, 0.090269073843956, 0.6553023457527161, 0.1658351719379425, 0.0738055482506752, 0.2090829759836197, 0.08110272884368896, 0.07975555956363678, 0.0816887617111206, 0.3143826127052307, 0.07172557711601257, 0.09762312471866608, 0.1428193747997284, 0.1220436841249466, 0.4999118149280548, 0.09537917375564575, 0.15655648708343506, 0.1299903392791748]}, {\"token\": \" \", \"format\": true}, {\"token\": \"study\", \"meta\": [\"##isation\", \"##ization\", \"##ity\"], \"heat\": [0.14130054414272308, 0.48882439732551575, 0.33583956956863403, 1.0, 0.410831481218338, 0.2594527006149292, 0.5634391903877258, 0.2862186133861542, 0.1112934947013855, 0.15693099796772003, 0.17409060895442963, 0.10540702193975449, 0.20633776485919952, 0.07105694711208344, 0.057871174067258835, 0.08223734050989151, 0.08975284546613693, 0.10017605125904083, 0.14350952208042145, 0.10251417756080627, 0.1173798218369484, 0.11361944675445557, 0.3467884063720703, 0.11504365503787994, 0.06045142188668251, 0.18714463710784912, 0.0719306692481041, 0.0701131820678711, 0.06840798258781433, 0.20448967814445496, 0.06760674715042114, 0.0429888553917408, 0.0838954895734787, 0.057611964643001556, 0.21750646829605103, 0.08922182023525238, 0.07202392816543579, 0.06359998136758804]}, {\"token\": \" \", \"format\": true}, {\"token\": \"of\", \"meta\": [\"of\", \"in\", \"using\"], \"heat\": [0.12671524286270142, 0.31602734327316284, 0.4253219962120056, 0.5723540186882019, 1.0, 0.7788968682289124, 0.7399182319641113, 0.2554072439670563, 0.11971639841794968, 0.10266382247209549, 0.0773693174123764, 0.05696815624833107, 0.1650756299495697, 0.057475898414850235, 0.05239064246416092, 0.06331685930490494, 0.06699099391698837, 0.057630956172943115, 0.12307438254356384, 0.1335093379020691, 0.0929793268442154, 0.10181430727243423, 0.09799959510564804, 0.10406144708395004, 0.04775460809469223, 0.1441807895898819, 0.07973938435316086, 0.08400435000658035, 0.10362032800912857, 0.19309747219085693, 0.09394500404596329, 0.04696562513709068, 0.10275222361087799, 0.042914073914289474, 0.12931224703788757, 0.037105582654476166, 0.08220663666725159, 0.07078199088573456]}, {\"token\": \" \", \"format\": true}, {\"token\": \"grammar\", \"meta\": [\"grammar\", \"languages\", \"language\"], \"heat\": [0.10640428960323334, 0.2815360426902771, 0.16394902765750885, 0.3658682703971863, 0.3872871994972229, 0.15855859220027924, 0.311535507440567, 0.1632438600063324, 0.061770424246788025, 0.12459375709295273, 0.09745743125677109, 0.09364549815654755, 0.1907547414302826, 0.0988493263721466, 0.04857480153441429, 0.11391586065292358, 0.09155460447072983, 0.08419651538133621, 0.14044706523418427, 0.13072769343852997, 0.12287705391645432, 0.09715765714645386, 0.27779072523117065, 0.13580557703971863, 0.08681035041809082, 0.1887737363576889, 0.09990184009075165, 0.16601432859897614, 0.1606300175189972, 1.0, 0.17671886086463928, 0.08427444845438004, 0.14846424758434296, 0.08631283044815063, 0.4686686098575592, 0.07992766052484512, 0.1421314924955368, 0.07858005166053772]}, {\"token\": \" \", \"format\": true}, {\"token\": \"is\", \"meta\": [\"is\", \"becomes\", \"constitutes\"], \"heat\": [0.1743174046278, 1.0, 0.37747007608413696, 0.25984326004981995, 0.41892009973526, 0.2059413343667984, 0.39928412437438965, 0.5910733938217163, 0.3942645490169525, 0.6170006990432739, 0.5448867678642273, 0.3477918207645416, 0.558952271938324, 0.26023221015930176, 0.20871229469776154, 0.416103720664978, 0.2881367802619934, 0.27842792868614197, 0.35884571075439453, 0.2047557681798935, 0.3248312175273895, 0.15203355252742767, 0.16189710795879364, 0.14864356815814972, 0.09857997298240662, 0.1555841565132141, 0.14630872011184692, 0.18019725382328033, 0.09848229587078094, 0.13660000264644623, 0.10140939056873322, 0.1021963432431221, 0.1291293501853943, 0.10444313287734985, 0.20374451577663422, 0.08056987822055817, 0.1502790004014969, 0.20573239028453827]}, {\"token\": \" \", \"format\": true}, {\"token\": \"an\", \"meta\": [\"an\", \"another\", \"a\"], \"heat\": [0.0872909277677536, 0.3738541305065155, 0.14811661839485168, 0.12359621375799179, 0.13501158356666565, 0.11133193969726562, 0.09880778193473816, 0.368042916059494, 0.4723397195339203, 0.8853176832199097, 1.0, 0.32195228338241577, 0.34936654567718506, 0.19954247772693634, 0.09113168716430664, 0.14422838389873505, 0.12417304515838623, 0.24567975103855133, 0.1648329347372055, 0.12059149891138077, 0.15630216896533966, 0.06487038731575012, 0.11097388714551926, 0.06810960173606873, 0.03774622082710266, 0.08761002868413925, 0.06632319837808609, 0.0712367445230484, 0.045470189303159714, 0.08402765542268753, 0.07487104088068008, 0.0507408045232296, 0.10019641369581223, 0.07731017470359802, 0.11222054064273834, 0.041419412940740585, 0.07439159601926804, 0.0992160215973854]}, {\"token\": \" \", \"format\": true}, {\"token\": \"important\", \"meta\": [\"essential\", \"important\", \"integral\"], \"heat\": [0.1114707887172699, 0.3334808051586151, 0.2061069905757904, 0.2276955544948578, 0.292929470539093, 0.10467403382062912, 0.17437779903411865, 0.3857395648956299, 1.0, 0.7184521555900574, 0.9786317348480225, 0.3420961797237396, 0.5029937028884888, 0.1959235519170761, 0.12046600133180618, 0.22630958259105682, 0.17392419278621674, 0.24362580478191376, 0.1923246532678604, 0.12449757754802704, 0.26045724749565125, 0.10419668257236481, 0.17962902784347534, 0.09954360127449036, 0.049740392714738846, 0.12025568634271622, 0.1106078252196312, 0.12747760117053986, 0.08699600398540497, 0.1532091200351715, 0.09860946983098984, 0.06811611354351044, 0.12519094347953796, 0.11943883448839188, 0.16085384786128998, 0.0651061087846756, 0.09492022544145584, 0.07992208749055862]}, {\"token\": \" \", \"format\": true}, {\"token\": \"part\", \"meta\": [\"aspect\", \"tool\", \"part\"], \"heat\": [0.15123698115348816, 0.38265329599380493, 0.26958686113357544, 0.3851460814476013, 0.3192082345485687, 0.1874675452709198, 0.19619937241077423, 0.3053949475288391, 0.3257395923137665, 0.8350698351860046, 0.7752635478973389, 0.6637265682220459, 1.0, 0.222780242562294, 0.1497093141078949, 0.24331900477409363, 0.2082163244485855, 0.18452061712741852, 0.26174622774124146, 0.18918974697589874, 0.2055182307958603, 0.07527311146259308, 0.16865719854831696, 0.1408206820487976, 0.052518606185913086, 0.12639591097831726, 0.0734834223985672, 0.07052520662546158, 0.09619417041540146, 0.2582045793533325, 0.09634533524513245, 0.07415392249822617, 0.15072602033615112, 0.07826635241508484, 0.1753314882516861, 0.06822244822978973, 0.10035047680139542, 0.13723193109035492]}, {\"token\": \" \", \"format\": true}, {\"token\": \"of\", \"meta\": [\"of\", \"in\", \"for\"], \"heat\": [0.08400961756706238, 0.4001818895339966, 0.1362394094467163, 0.13252559304237366, 0.19415992498397827, 0.10430662333965302, 0.1361694633960724, 0.23016805946826935, 0.3210512697696686, 0.5015497803688049, 0.9493855834007263, 1.0, 0.6752557158470154, 0.30870866775512695, 0.19260551035404205, 0.20156072080135345, 0.1819159984588623, 0.25959551334381104, 0.15920576453208923, 0.15140672028064728, 0.20118719339370728, 0.09562821686267853, 0.13215579092502594, 0.13692526519298553, 0.06003861129283905, 0.09641934931278229, 0.0735897496342659, 0.07067328691482544, 0.07869262248277664, 0.09310740232467651, 0.06723883002996445, 0.07237616926431656, 0.07566291838884354, 0.08328084647655487, 0.1316300332546234, 0.042790718376636505, 0.0859079509973526, 0.1439957171678543]}, {\"token\": \" \", \"format\": true}, {\"token\": \"education\", \"meta\": [\"learning\", \"education\", \"teaching\"], \"heat\": [0.1369830220937729, 0.3197184205055237, 0.1640695184469223, 0.16458694636821747, 0.2055683732032776, 0.13784386217594147, 0.3278729021549225, 0.1835058033466339, 0.18677416443824768, 0.29430779814720154, 0.5650559067726135, 0.32359597086906433, 0.39912500977516174, 0.3165639638900757, 0.2404298037290573, 0.28379589319229126, 0.28156888484954834, 0.4046841561794281, 0.3335535526275635, 0.36158356070518494, 0.15870682895183563, 0.09405858814716339, 0.2011767476797104, 0.11325057595968246, 0.09803785383701324, 0.3534378409385681, 0.12149864435195923, 0.07560832798480988, 0.09077340364456177, 0.22869527339935303, 0.06970883160829544, 0.0671922117471695, 0.12594132125377655, 0.1290050446987152, 1.0, 0.16376808285713196, 0.14758045971393585, 0.08893512934446335]}, {\"token\": \" \", \"format\": true}, {\"token\": \"from\", \"meta\": [\"for\", \"from\", \"in\"], \"heat\": [0.1432468742132187, 0.24555239081382751, 0.10975653678178787, 0.11861693114042282, 0.17571863532066345, 0.10258369147777557, 0.23498904705047607, 0.19614620506763458, 0.22227925062179565, 0.2705453038215637, 0.2884387969970703, 0.2559535503387451, 0.5199386477470398, 0.6134627461433411, 0.6110149621963501, 1.0, 0.9118590354919434, 0.5196003317832947, 0.42833366990089417, 0.330459326505661, 0.27847304940223694, 0.10296402871608734, 0.19181060791015625, 0.13450001180171967, 0.0715087279677391, 0.13206201791763306, 0.084030881524086, 0.07030773907899857, 0.05269967019557953, 0.184532031416893, 0.053944263607263565, 0.05769046023488045, 0.08515238016843796, 0.07114087790250778, 0.19452457129955292, 0.06460954993963242, 0.08629028499126434, 0.10485666245222092]}, {\"token\": \" \", \"format\": true}, {\"token\": \"a\", \"meta\": [\"very\", \"a\", \"relatively\"], \"heat\": [0.06943852454423904, 0.0985710471868515, 0.043895941227674484, 0.05977741628885269, 0.07465079426765442, 0.03286920487880707, 0.09765177220106125, 0.08346851170063019, 0.061893805861473083, 0.09078957140445709, 0.07004861533641815, 0.09965527057647705, 0.16751545667648315, 0.22959665954113007, 0.328744113445282, 1.0, 0.744514524936676, 0.27004262804985046, 0.18278487026691437, 0.1452752947807312, 0.08017841726541519, 0.04578562080860138, 0.06621542572975159, 0.07667841762304306, 0.030785901471972466, 0.07174335420131683, 0.057321298867464066, 0.030685145407915115, 0.029620185494422913, 0.07698783278465271, 0.01948804222047329, 0.02677936665713787, 0.04929500073194504, 0.039404746145009995, 0.08064157515764236, 0.028921598568558693, 0.038480132818222046, 0.037674400955438614]}, {\"token\": \" \", \"format\": true}, {\"token\": \"young\", \"meta\": [\"young\", \"middle\", \"preschool\"], \"heat\": [0.0909281000494957, 0.18127162754535675, 0.07292594760656357, 0.13339605927467346, 0.11192730814218521, 0.07350345700979233, 0.15366896986961365, 0.10849861800670624, 0.07842861115932465, 0.20758162438869476, 0.1203126534819603, 0.09418980777263641, 0.2792319357395172, 0.3994598984718323, 0.4283961057662964, 0.6055357456207275, 1.0, 0.3787359297275543, 0.3393345773220062, 0.20554286241531372, 0.09698735922574997, 0.06029793992638588, 0.14470930397510529, 0.11242260783910751, 0.0570584274828434, 0.12639422714710236, 0.05277150496840477, 0.05013028159737587, 0.043600328266620636, 0.19030383229255676, 0.04859378561377525, 0.05952531471848488, 0.07600356638431549, 0.04758284240961075, 0.18171219527721405, 0.04810932278633118, 0.06800715625286102, 0.09801726788282394]}, {\"token\": \" \", \"format\": true}, {\"token\": \"age\", \"meta\": [\"person\", \"adult\", \"child\"], \"heat\": [0.06339126825332642, 0.1077796220779419, 0.051830608397722244, 0.08552362769842148, 0.10653739422559738, 0.06376573443412781, 0.1300615519285202, 0.11033967137336731, 0.07685213536024094, 0.14369072020053864, 0.15332941710948944, 0.20814014971256256, 0.4225033223628998, 0.37613120675086975, 0.36193525791168213, 1.0, 0.28515464067459106, 0.36131852865219116, 0.2304253727197647, 0.15323102474212646, 0.09003891795873642, 0.048672888427972794, 0.10187409073114395, 0.07318203151226044, 0.037098582834005356, 0.10571520030498505, 0.04454203322529793, 0.05088097229599953, 0.03962300345301628, 0.08545216917991638, 0.04443851113319397, 0.03430769592523575, 0.06713545322418213, 0.04560273513197899, 0.33032771944999695, 0.06867728382349014, 0.0804884135723114, 0.051141537725925446]}, {\"token\": \" \", \"format\": true}, {\"token\": \"through\", \"meta\": [\"towards\", \"to\", \"through\"], \"heat\": [0.1840493083000183, 0.39546358585357666, 0.1991773098707199, 0.18537455797195435, 0.2078923135995865, 0.1729113608598709, 0.2214057445526123, 0.28986990451812744, 0.23214632272720337, 0.3582126796245575, 0.2911868095397949, 0.2196425050497055, 0.6552954912185669, 0.8287641406059265, 0.5309399366378784, 0.9241665005683899, 0.9358006119728088, 0.656212329864502, 1.0, 0.6895654201507568, 0.4344239830970764, 0.12302697449922562, 0.18316704034805298, 0.15115009248256683, 0.09134556353092194, 0.15693503618240356, 0.14914876222610474, 0.13236357271671295, 0.07275042682886124, 0.18742452561855316, 0.09250486642122269, 0.09727418422698975, 0.1480066031217575, 0.12431778758764267, 0.21798978745937347, 0.09670326113700867, 0.14228962361812592, 0.13180473446846008]}, {\"token\": \" \", \"format\": true}, {\"token\": \"advanced\", \"meta\": [\"formal\", \"lifelong\", \"language\"], \"heat\": [0.10531213134527206, 0.24865077435970306, 0.1374911516904831, 0.22717063128948212, 0.15201041102409363, 0.07940839976072311, 0.22425587475299835, 0.10320451855659485, 0.07813391834497452, 0.15487971901893616, 0.11727768182754517, 0.09379952400922775, 0.2965123951435089, 0.3408641517162323, 0.1444775015115738, 0.3601159155368805, 0.37298819422721863, 0.6742739677429199, 0.5699158906936646, 1.0, 0.25854313373565674, 0.10633987933397293, 0.21838967502117157, 0.20914722979068756, 0.07065926492214203, 0.2957516610622406, 0.12744984030723572, 0.10457757115364075, 0.050456512719392776, 0.2132968306541443, 0.06199333071708679, 0.040754545480012894, 0.09921404719352722, 0.11285354197025299, 0.3223322629928589, 0.0615365132689476, 0.09849920868873596, 0.06871409714221954]}, {\"token\": \" \", \"format\": true}, {\"token\": \"learning\", \"meta\": [\"literacy\", \"schooling\", \"education\"], \"heat\": [0.09196851402521133, 0.12561796605587006, 0.04611992463469505, 0.09878181666135788, 0.12447310239076614, 0.04830208793282509, 0.12508942186832428, 0.11677725613117218, 0.042302392423152924, 0.08888284862041473, 0.09230037033557892, 0.05146831274032593, 0.21320199966430664, 0.3078138530254364, 0.10513564199209213, 0.22603972256183624, 0.29231739044189453, 0.7295620441436768, 1.0, 0.26730847358703613, 0.13862045109272003, 0.05802927166223526, 0.15220648050308228, 0.09682308882474899, 0.04073561728000641, 0.137125164270401, 0.05972716957330704, 0.04425967484712601, 0.04011113569140434, 0.10824323445558548, 0.03419792652130127, 0.03142959624528885, 0.05591139569878578, 0.04877240210771561, 0.1717219203710556, 0.04463966190814972, 0.07623853534460068, 0.04907164350152016]}, {\"token\": \" \", \"format\": true}, {\"token\": \"though\", \"meta\": [\".\", \";\", \"because\"], \"heat\": [0.13166016340255737, 1.0, 0.17672567069530487, 0.16491000354290009, 0.11497402936220169, 0.06036902591586113, 0.08858958631753922, 0.1656976193189621, 0.09400501847267151, 0.1196877732872963, 0.11536175012588501, 0.0701172724366188, 0.13808086514472961, 0.06706442683935165, 0.06555690616369247, 0.0752800777554512, 0.08840527385473251, 0.1736784130334854, 0.20150604844093323, 0.3284168243408203, 0.33393609523773193, 0.18264012038707733, 0.17848719656467438, 0.1134951263666153, 0.1183241754770279, 0.21314631402492523, 0.14395475387573242, 0.15499164164066315, 0.10163432359695435, 0.1245993971824646, 0.11052533984184265, 0.08604079484939575, 0.18871450424194336, 0.10457594692707062, 0.1271907389163971, 0.044961024075746536, 0.07401232421398163, 0.05789655074477196]}, {\"token\": \" \", \"format\": true}, {\"token\": \"the\", \"meta\": [\"grammar\", \"grammatical\", \"the\"], \"heat\": [0.09283161908388138, 0.17096583545207977, 0.07347091287374496, 0.15084804594516754, 0.1419268399477005, 0.08104868978261948, 0.2868269681930542, 0.08668883144855499, 0.05743924900889397, 0.10408151894807816, 0.09090029448270798, 0.056794825941324234, 0.18608957529067993, 0.06118007376790047, 0.06331054121255875, 0.11560486257076263, 0.11342381685972214, 0.10729116946458817, 0.1351480633020401, 0.24652409553527832, 0.481841117143631, 0.8482950925827026, 1.0, 0.3816991448402405, 0.21790093183517456, 0.3636433482170105, 0.2938978970050812, 0.24407584965229034, 0.2520994246006012, 0.30573195219039917, 0.12188860774040222, 0.11948247998952866, 0.38595154881477356, 0.1736537516117096, 0.39141759276390076, 0.08793213218450546, 0.1637217104434967, 0.07193513214588165]}, {\"token\": \" \", \"format\": true}, {\"token\": \"rules\", \"meta\": [\"languages\", \"texts\", \"subjects\"], \"heat\": [0.1573083996772766, 0.27260488271713257, 0.08755601197481155, 0.2784319818019867, 0.23655562102794647, 0.18123915791511536, 0.5225822925567627, 0.1373860239982605, 0.10134854912757874, 0.15859906375408173, 0.0865105390548706, 0.07318078726530075, 0.3065623342990875, 0.07527929544448853, 0.10708584636449814, 0.17296810448169708, 0.15703129768371582, 0.10084028542041779, 0.15286241471767426, 0.18849192559719086, 0.39297109842300415, 0.4706924855709076, 0.43976354598999023, 1.0, 0.3282078504562378, 0.6316837072372437, 0.6908008456230164, 0.24376533925533295, 0.32055625319480896, 0.8132662177085876, 0.20464074611663818, 0.16818580031394958, 0.3565770983695984, 0.19019411504268646, 0.6143674850463867, 0.1468159407377243, 0.21100272238254547, 0.11524999141693115]}, {\"token\": \" \", \"format\": true}, {\"token\": \"taught\", \"meta\": [\"used\", \"taught\", \"found\"], \"heat\": [0.07137618213891983, 0.11622856557369232, 0.04969486594200134, 0.0798834040760994, 0.09868340194225311, 0.04766210913658142, 0.19839303195476532, 0.05160342529416084, 0.04675375297665596, 0.06790456175804138, 0.04736621677875519, 0.05646022781729698, 0.1599021703004837, 0.04785558581352234, 0.048207372426986694, 0.07434588670730591, 0.06268968433141708, 0.07912863045930862, 0.11400638520717621, 0.15222764015197754, 0.1733042150735855, 0.24234546720981598, 1.0, 0.35034188628196716, 0.2371867448091507, 0.44423970580101013, 0.17061524093151093, 0.08911646902561188, 0.0932043269276619, 0.20021329820156097, 0.08714670687913895, 0.06547259539365768, 0.11377740651369095, 0.07032184302806854, 0.2371310442686081, 0.061150796711444855, 0.07949362695217133, 0.06658503413200378]}, {\"token\": \" \", \"format\": true}, {\"token\": \"in\", \"meta\": [\"in\", \"by\", \"within\"], \"heat\": [0.25064584612846375, 0.41489097476005554, 0.13133598864078522, 0.15742290019989014, 0.1470198631286621, 0.11247678846120834, 0.19445745646953583, 0.20709486305713654, 0.12906783819198608, 0.12930600345134735, 0.0900738537311554, 0.10969379544258118, 0.24688740074634552, 0.08798220753669739, 0.125003844499588, 0.17878644168376923, 0.13909068703651428, 0.11025429517030716, 0.16161301732063293, 0.36524516344070435, 0.44364628195762634, 0.3616071343421936, 1.0, 0.9687946438789368, 0.7656012773513794, 0.9370759129524231, 0.4110240936279297, 0.22696812450885773, 0.21029417216777802, 0.3779691159725189, 0.2446916103363037, 0.17105057835578918, 0.3137807846069336, 0.22914005815982819, 0.2850485146045685, 0.18475176393985748, 0.22177965939044952, 0.23420390486717224]}, {\"token\": \" \", \"format\": true}, {\"token\": \"schools\", \"meta\": [\"context\", \"grammar\", \"english\"], \"heat\": [0.13703599572181702, 1.0, 0.20024213194847107, 0.14823101460933685, 0.16543267667293549, 0.0795278251171112, 0.20146967470645905, 0.11719083040952682, 0.07867815345525742, 0.12854689359664917, 0.08432990312576294, 0.08247014135122299, 0.24922385811805725, 0.0674433559179306, 0.0725918859243393, 0.14556819200515747, 0.09510547667741776, 0.10743191093206406, 0.13627927005290985, 0.12849169969558716, 0.20762406289577484, 0.19591863453388214, 0.3340988755226135, 0.4333803653717041, 0.3017908036708832, 0.2628435492515564, 0.28681933879852295, 0.07575272768735886, 0.08348818868398666, 0.15411269664764404, 0.0760418102145195, 0.05398770794272423, 0.11305481195449829, 0.07670475542545319, 0.2047291249036789, 0.04787592962384224, 0.07983940839767456, 0.12589116394519806]}, {\"token\": \" \", \"format\": true}, {\"token\": \"are\", \"meta\": [\"are\", \"is\", \"constitute\"], \"heat\": [0.11717376857995987, 0.10288272798061371, 0.045824140310287476, 0.044668007642030716, 0.06597131490707397, 0.0647427886724472, 0.10650467127561569, 0.07174753397703171, 0.03733771666884422, 0.07033410668373108, 0.034332066774368286, 0.04394063353538513, 0.0920112282037735, 0.042887624353170395, 0.04944374039769173, 0.050297368317842484, 0.0438278503715992, 0.053601957857608795, 0.07471677660942078, 0.08902231603860855, 0.2615368664264679, 0.1172240599989891, 0.17587390542030334, 0.20652936398983002, 0.11172886937856674, 0.17547309398651123, 0.4818779230117798, 1.0, 0.5975579619407654, 0.3789169192314148, 0.17767205834388733, 0.17497777938842773, 0.2251465916633606, 0.11305642873048782, 0.1244882121682167, 0.09924360364675522, 0.15258808434009552, 0.09210745990276337]}, {\"token\": \" \", \"format\": true}, {\"token\": \"not\", \"meta\": [\"essentially\", \"termed\", \"called\"], \"heat\": [0.19514307379722595, 0.3444071114063263, 0.14366142451763153, 0.17117340862751007, 0.13407430052757263, 0.22924862802028656, 0.2944391071796417, 0.15470770001411438, 0.10440628230571747, 0.2563265562057495, 0.13514621555805206, 0.13302744925022125, 0.13338838517665863, 0.09380927681922913, 0.09535533934831619, 0.09037313610315323, 0.12556061148643494, 0.11273285001516342, 0.11827864497900009, 0.2308611124753952, 1.0, 0.42451751232147217, 0.42145437002182007, 0.2271595001220703, 0.21668145060539246, 0.26351407170295715, 0.8516218662261963, 0.7734972834587097, 0.8839311599731445, 0.8342950344085693, 0.3972145915031433, 0.3609091639518738, 0.8554964065551758, 0.2864369750022888, 0.3087090253829956, 0.22065168619155884, 0.3078864514827728, 0.19354821741580963]}, {\"token\": \" \", \"format\": true}, {\"token\": \"a\", \"meta\": [\"strictly\", \"formal\", \"necessarily\"], \"heat\": [0.08394205570220947, 0.11329604685306549, 0.046482812613248825, 0.16088317334651947, 0.07840893417596817, 0.202789306640625, 0.30002090334892273, 0.06989514082670212, 0.03382508084177971, 0.05695032328367233, 0.03337021544575691, 0.026766490191221237, 0.07479874789714813, 0.026660950854420662, 0.036897026002407074, 0.058499082922935486, 0.04140327498316765, 0.040222663432359695, 0.05489163100719452, 0.06994312256574631, 0.11677621304988861, 0.09270889312028885, 0.1538567692041397, 0.09884265810251236, 0.06803987920284271, 0.1478322297334671, 0.178402379155159, 0.18726690113544464, 0.3179091811180115, 1.0, 0.16591061651706696, 0.17358368635177612, 0.17790324985980988, 0.07089337706565857, 0.11829502135515213, 0.056090231984853745, 0.0679084062576294, 0.0451364666223526]}, {\"token\": \" \", \"format\": true}, {\"token\": \"grammar\", \"meta\": [\"grammar\", \"requirement\", \"language\"], \"heat\": [0.14097890257835388, 0.18215546011924744, 0.10000572353601456, 0.1610470712184906, 0.16511337459087372, 0.1379261016845703, 1.0, 0.1285007894039154, 0.09229424595832825, 0.17623655498027802, 0.10909893363714218, 0.13808956742286682, 0.20687413215637207, 0.11985500901937485, 0.07130476832389832, 0.1179119348526001, 0.09424159675836563, 0.15386277437210083, 0.17706333100795746, 0.21268220245838165, 0.40565401315689087, 0.413998544216156, 0.7639650106430054, 0.2906099855899811, 0.3707335889339447, 0.26912596821784973, 0.37602320313453674, 0.41115158796310425, 0.7234313488006592, 0.638346254825592, 0.4656296670436859, 0.5518478751182556, 0.660403847694397, 0.2977612018585205, 0.7709771990776062, 0.15436838567256927, 0.19124114513397217, 0.1541374921798706]}, {\"token\": \" \", \"format\": true}, {\"token\": \"in\", \"meta\": [\"in\", \"nor\", \"within\"], \"heat\": [0.06641016155481339, 0.11107905209064484, 0.0420539528131485, 0.04613254591822624, 0.03771273419260979, 0.04656572267413139, 0.06161397695541382, 0.03524940088391304, 0.018624940887093544, 0.046927567571401596, 0.02565649524331093, 0.03537526726722717, 0.05440928041934967, 0.027095600962638855, 0.03766622021794319, 0.03073222190141678, 0.02480035461485386, 0.02223454974591732, 0.03655847907066345, 0.05119738355278969, 0.08604803681373596, 0.05513390526175499, 0.0822317972779274, 0.05955067276954651, 0.047847919166088104, 0.053328439593315125, 0.07076846808195114, 0.1273820400238037, 0.14400096237659454, 0.16787900030612946, 0.34213343262672424, 0.4329345226287842, 1.0, 0.33222058415412903, 0.202993705868721, 0.17578361928462982, 0.13260221481323242, 0.06723760813474655]}, {\"token\": \" \", \"format\": true}, {\"token\": \"the\", \"meta\": [\"any\", \"that\", \"this\"], \"heat\": [0.08500517159700394, 0.16403493285179138, 0.07472775876522064, 0.07025064527988434, 0.048756472766399384, 0.041293833404779434, 0.08180277049541473, 0.0403125137090683, 0.03233545273542404, 0.06576763093471527, 0.040453165769577026, 0.06309674680233002, 0.1120186522603035, 0.046782128512859344, 0.08239780366420746, 0.058994829654693604, 0.03776869177818298, 0.039479516446590424, 0.055438216775655746, 0.07781178504228592, 0.10860403627157211, 0.06836028397083282, 0.09189245849847794, 0.09643584489822388, 0.07337284088134766, 0.09318450838327408, 0.08042237907648087, 0.12047965079545975, 0.16717468202114105, 0.17817282676696777, 0.39731141924858093, 0.4889128804206848, 1.0, 0.31742963194847107, 0.28343334794044495, 0.1302066445350647, 0.18426768481731415, 0.10409669578075409]}, {\"token\": \" \", \"format\": true}, {\"token\": \"sense\", \"meta\": [\"language\", \"way\", \"context\"], \"heat\": [0.18150895833969116, 0.2693169414997101, 0.0957222729921341, 0.13099327683448792, 0.13951341807842255, 0.09182503819465637, 0.33298614621162415, 0.1596532166004181, 0.06848841905593872, 0.15163518488407135, 0.08661337941884995, 0.08152180910110474, 0.15892493724822998, 0.09192458540201187, 0.06886427849531174, 0.19975480437278748, 0.1734616756439209, 0.1190563291311264, 0.18032945692539215, 0.21106292307376862, 0.2461480349302292, 0.19762557744979858, 0.3517618477344513, 0.26546791195869446, 0.20508962869644165, 0.37610024213790894, 0.27037525177001953, 0.43141213059425354, 0.43977054953575134, 0.9138053059577942, 0.8196364045143127, 0.5237453579902649, 1.0, 0.9330447912216187, 0.650260865688324, 0.48814335465431213, 0.5276331305503845, 0.2780280113220215]}, {\"token\": \" \", \"format\": true}, {\"token\": \"most\", \"meta\": [\"that\", \"most\", \"modern\"], \"heat\": [0.11547193676233292, 0.3272726237773895, 0.08574247360229492, 0.11846017092466354, 0.08585531264543533, 0.0583060048520565, 0.20329515635967255, 0.07159784436225891, 0.038855377584695816, 0.10247046500444412, 0.050621453672647476, 0.04432319104671478, 0.23912902176380157, 0.05566074326634407, 0.056705228984355927, 0.08632839471101761, 0.08036285638809204, 0.05992598831653595, 0.10024423152208328, 0.13487227261066437, 0.13516388833522797, 0.07796549797058105, 0.14610320329666138, 0.12904898822307587, 0.06895574927330017, 0.21311016380786896, 0.09834395349025726, 0.12391752749681473, 0.11027649790048599, 0.23128968477249146, 0.3328820466995239, 0.2730046212673187, 0.7796891331672668, 0.38075491786003113, 0.7682035565376282, 0.6630683541297913, 1.0, 0.5514214634895325]}, {\"token\": \" \", \"format\": true}, {\"token\": \"linguist\", \"meta\": [\"grammar\", \"linguist\", \"interpreter\"], \"heat\": [0.2061137706041336, 0.6046499013900757, 0.16964007914066315, 0.24039652943611145, 0.30606839060783386, 0.27429890632629395, 1.0, 0.14325685799121857, 0.07366832345724106, 0.19848933815956116, 0.10125807672739029, 0.09701017290353775, 0.5420664548873901, 0.09192658215761185, 0.08091297745704651, 0.22918576002120972, 0.18289071321487427, 0.10048515349626541, 0.31351110339164734, 0.21959301829338074, 0.1836918741464615, 0.1252662092447281, 0.4301712214946747, 0.22448153793811798, 0.12707051634788513, 0.6597183346748352, 0.11895277351140976, 0.15736573934555054, 0.16956613957881927, 0.9244014024734497, 0.23301371932029724, 0.3902299404144287, 0.7155579924583435, 0.4562689960002899, 0.5157400369644165, 0.5524217486381531, 0.6355433464050293, 0.23792637884616852]}, {\"token\": \"s\", \"meta\": [\"##s\", \"##ians\", \"scholars\"], \"heat\": [0.06412287056446075, 0.13197912275791168, 0.031040534377098083, 0.053307175636291504, 0.0452708937227726, 0.026366254314780235, 0.11506802588701248, 0.03790266439318657, 0.018545934930443764, 0.05833591893315315, 0.01993713714182377, 0.031185811385512352, 0.09912168979644775, 0.020423591136932373, 0.026107190176844597, 0.046497642993927, 0.043230749666690826, 0.025139641016721725, 0.04558313637971878, 0.06430168449878693, 0.04112843796610832, 0.03174491226673126, 0.08748927712440491, 0.053887851536273956, 0.028875257819890976, 0.10446217656135559, 0.038330379873514175, 0.04900931939482689, 0.05098513141274452, 0.09848545491695404, 0.1407848298549652, 0.23771965503692627, 0.2411450743675232, 0.26531270146369934, 1.0, 0.32091209292411804, 0.49607738852500916, 0.179221972823143]}, {\"token\": \" \", \"format\": true}, {\"token\": \"use\", \"meta\": [\".\", \"believe\", \"consider\"], \"heat\": [0.18161052465438843, 0.1984993815422058, 0.06899441033601761, 0.09452980756759644, 0.08473615348339081, 0.06150858849287033, 0.10422258079051971, 0.13005144894123077, 0.034756168723106384, 0.11734776943922043, 0.04892819747328758, 0.03954603895545006, 0.1002243310213089, 0.05386725068092346, 0.03921235352754593, 0.09049943834543228, 0.0693688616156578, 0.061505161225795746, 0.07816687971353531, 0.08079757541418076, 0.09035199135541916, 0.07984957844018936, 0.14776398241519928, 0.10077853500843048, 0.10304511338472366, 0.11421312391757965, 0.09253358095884323, 0.13746027648448944, 0.1336679309606552, 0.20686671137809753, 0.6348887085914612, 0.4637809991836548, 1.0, 0.5026530027389526, 0.6865333914756775, 0.37709513306617737, 0.43909963965415955, 0.49074944853782654]}, {\"token\": \" \", \"format\": true}, {\"token\": \"[SEP]\", \"meta\": [\"\", \"\", \"\"], \"heat\": [0, 0, 0, 0, 0, 0, 0, 0, 0, 0, 0, 0, 0, 0, 0, 0, 0, 0, 0, 0, 0, 0, 0, 0, 0, 0, 0, 0, 0, 0, 0, 0, 0, 0, 0, 0, 0, 1]}]]);</script>"
            ],
            "text/plain": [
              "<IPython.core.display.HTML object>"
            ]
          },
          "metadata": {
            "tags": []
          }
        },
        {
          "output_type": "display_data",
          "data": {
            "application/javascript": [
              "void(0);"
            ],
            "text/plain": [
              "<IPython.core.display.Javascript object>"
            ]
          },
          "metadata": {
            "tags": []
          }
        }
      ]
    },
    {
      "cell_type": "markdown",
      "metadata": {
        "id": "fdlWmkslpUEG",
        "colab_type": "text"
      },
      "source": [
        "I hope you found this useful, if so please consider sharing/retweeting it.\n"
      ]
    },
    {
      "cell_type": "code",
      "metadata": {
        "id": "mt7kKtFEqOJN",
        "colab_type": "code",
        "colab": {
          "base_uri": "https://localhost:8080/",
          "height": 586
        },
        "cellView": "form",
        "outputId": "cb0af613-42cc-43dc-e4f1-8c27b394e6dc"
      },
      "source": [
        "#@title\n",
        "%%html\n",
        "<blockquote class=\"twitter-tweet\"><p lang=\"en\" dir=\"ltr\">Using <a href=\"https://twitter.com/huggingface?ref_src=twsrc%5Etfw\">@huggingface</a> Transformer with TextualHeatmap to make an interactive saliency map in Google Colab. Colab link: <a href=\"https://t.co/76uZpyYdjE\">https://t.co/76uZpyYdjE</a> <a href=\"https://t.co/15W3MhfxZ3\">pic.twitter.com/15W3MhfxZ3</a></p>&mdash; Andreas Madsen (@andreas_madsen) <a href=\"https://twitter.com/andreas_madsen/status/1243159481372082182?ref_src=twsrc%5Etfw\">March 26, 2020</a></blockquote> <script async src=\"https://platform.twitter.com/widgets.js\" charset=\"utf-8\"></script>"
      ],
      "execution_count": 5,
      "outputs": [
        {
          "output_type": "display_data",
          "data": {
            "text/html": [
              "\n",
              "<blockquote class=\"twitter-tweet\"><p lang=\"en\" dir=\"ltr\">Using <a href=\"https://twitter.com/huggingface?ref_src=twsrc%5Etfw\">@huggingface</a> Transformer with TextualHeatmap to make an interactive saliency map in Google Colab. Colab link: <a href=\"https://t.co/76uZpyYdjE\">https://t.co/76uZpyYdjE</a> <a href=\"https://t.co/15W3MhfxZ3\">pic.twitter.com/15W3MhfxZ3</a></p>&mdash; Andreas Madsen (@andreas_madsen) <a href=\"https://twitter.com/andreas_madsen/status/1243159481372082182?ref_src=twsrc%5Etfw\">March 26, 2020</a></blockquote> <script async src=\"https://platform.twitter.com/widgets.js\" charset=\"utf-8\"></script>"
            ],
            "text/plain": [
              "<IPython.core.display.HTML object>"
            ]
          },
          "metadata": {
            "tags": []
          }
        }
      ]
    }
  ]
}